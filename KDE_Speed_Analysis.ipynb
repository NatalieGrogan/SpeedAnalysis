{
 "cells": [
  {
   "cell_type": "code",
   "execution_count": 174,
   "id": "194537bd",
   "metadata": {},
   "outputs": [],
   "source": [
    "import numpy as np\n",
    "import pandas as pd\n",
    "import matplotlib.pyplot as plt\n",
    "import os\n",
    "from scipy import stats\n",
    "from sklearn.neighbors import KernelDensity\n",
    "from scipy.signal import argrelextrema\n",
    "import re\n",
    "\n",
    "PValue=.01"
   ]
  },
  {
   "cell_type": "code",
   "execution_count": 175,
   "id": "ba3d2c2b",
   "metadata": {},
   "outputs": [],
   "source": [
    "# This sections removes duplicate consecutive outputs from a bug in the data generating program.\n",
    "#  Each hyperfine loop instantiated a version of the speed monitor but didn't ever close it. Then when the 2nd loop\n",
    "#  started, Longword pattern, each speed monitor instance was reporting the data. Thus double reports of the \n",
    "#  same data. This goes through and pops all those double reports.\n",
    "\n",
    "def Remove_Duplicate_Speed_Output(runs_w_speed):\n",
    "    for run in runs_w_speed:\n",
    "        if len(run[2]) > 1:\n",
    "            counter = len(run[2])-1\n",
    "            i = 0\n",
    "            while i < counter:\n",
    "                if run[2][i] == run[2][i+1]:\n",
    "                    run[2].pop(i+1)\n",
    "                    counter += -1\n",
    "                    i += -1\n",
    "                i += 1\n",
    "    #min_speed = min(runs_w_speed[0][2])\n",
    "\n",
    "    #for run in runs_w_speed:\n",
    "    #    if min(run[2]) < min_speed:\n",
    "    #        print(min_speed,run[0:2])\n",
    "    #        min_speed = min(run[2])\n",
    "    \n",
    "    return runs_w_speed"
   ]
  },
  {
   "cell_type": "code",
   "execution_count": 176,
   "id": "932ad51e",
   "metadata": {},
   "outputs": [],
   "source": [
    "# This creates a dictionary containing each of the pattern/program combos found in the transcript file. Keys are\n",
    "#  the pattern_program name and values are a list lists of the \"cpu speed\" for each iteration whose \"name\" \n",
    "#  matchs the key.\n",
    "\n",
    "def Make_Speed_Dic(start_of_sections,runs_w_speed):\n",
    "    Speed_Dic ={}\n",
    "    patterns_identified = []\n",
    "    for item in start_of_sections:\n",
    "        patterns_identified.append(item[0])\n",
    "        Speed_Dic[item[0]] = []\n",
    "\n",
    "    for pattern in patterns_identified:\n",
    "        counter = 0\n",
    "        for run in runs_w_speed:\n",
    "            name = run[0]\n",
    "            if name.find(pattern) != -1:\n",
    "                counter += 1\n",
    "                #print('Pattern ',pattern,' Name ',run,' Counter ',counter)\n",
    "                Speed_Dic[pattern].append(run[2])\n",
    "    return Speed_Dic"
   ]
  },
  {
   "cell_type": "code",
   "execution_count": 177,
   "id": "3b906200",
   "metadata": {},
   "outputs": [],
   "source": [
    "# Idea - First loop looks to consume any speed changes that happen in between iterations then loops to add intra\n",
    "#         speed changes to a list. One important assumption is that starting speed is 100. Could implement a check\n",
    "#          to ensure that's true but not sure it ever isn't.\n",
    "def Combine_Iteraction_W_Speed(iterations,speed_changes,start_of_sections):\n",
    "    # Idea - First loop looks to consume any speed changes that happen in between iterations then loops to add intra\n",
    "    #         speed changes to a list. One important assumption is that starting speed is 100. Could implement a check\n",
    "    #          to ensure that's true but not sure it ever isn't.\n",
    "    BIG_MAGIC_NUMBER = 10000000000000\n",
    "    current_speed_idx = 0\n",
    "    current_speed = 100\n",
    "    runs_w_speed = []\n",
    "\n",
    "    counter = 0\n",
    "\n",
    "    for entry in iterations:\n",
    "        temp_speeds = []\n",
    "        name = None\n",
    "\n",
    "        start_current_entry_loc = entry[0][1] # 1st element in tuple is start index of iteration\n",
    "        end_current_entry_loc = entry[1][1]   # 2nd entry in tuple is end index of iteration\n",
    "\n",
    "\n",
    "        if speed_changes:\n",
    "            if current_speed_idx >= len(speed_changes):\n",
    "                current_speed_loc = BIG_MAGIC_NUMBER\n",
    "            else:\n",
    "                current_speed_loc = speed_changes[current_speed_idx][1] # 2nd index of tuple is current cpu_speed_limit\n",
    "        else:\n",
    "            current_speed_loc = BIG_MAGIC_NUMBER # very large magic number\n",
    "\n",
    "        # Inter Loop - consume and update speed to be the last change before the start of current iteration\n",
    "        while start_current_entry_loc > current_speed_loc:\n",
    "            current_speed_idx += 1\n",
    "\n",
    "            if current_speed_idx >= len(speed_changes):\n",
    "                current_speed_loc = BIG_MAGIC_NUMBER\n",
    "                current_speed = speed_changes[ (len(speed_changes) -1)][0]\n",
    "            else:\n",
    "                current_speed_loc = speed_changes[current_speed_idx][1]\n",
    "                current_speed = speed_changes[current_speed_idx-1][0]\n",
    "\n",
    "        # Intra Loop - append most recent speed to list, update speed and repeat until we find a speed change\n",
    "        #               after end of current iteration\n",
    "        while end_current_entry_loc > current_speed_loc:\n",
    "            temp_speeds.append( current_speed )\n",
    "            current_speed_idx += 1\n",
    "\n",
    "            # If final speed change is before last iteraction this check prevents an index out of bounds error\n",
    "            if current_speed_idx >= len(speed_changes):\n",
    "                current_speed_loc = BIG_MAGIC_NUMBER\n",
    "                current_speed = speed_changes[ (len(speed_changes) -1)][0]\n",
    "            else:\n",
    "                current_speed_loc = speed_changes[current_speed_idx][1]\n",
    "                current_speed = speed_changes[current_speed_idx-1][0]\n",
    "\n",
    "        # This ensures that the speed list isn't empty and that if there are no changes it has the most recent speed\n",
    "        temp_speeds.append(current_speed)\n",
    "\n",
    "        # Loop that adds the appropriate section name to each iteration\n",
    "        for i in range(0,(len(start_of_sections)+1)):\n",
    "            if name is None:\n",
    "                if i == len(start_of_sections):\n",
    "                    name = start_of_sections[i-1][0]\n",
    "                elif start_current_entry_loc < start_of_sections[i][1]:\n",
    "                    name = start_of_sections[i-1][0]\n",
    "\n",
    "            else:\n",
    "                continue\n",
    "\n",
    "        runs_w_speed.append( (name,entry,temp_speeds.copy()) )\n",
    "    \n",
    "    #print(runs_w_speed[0])\n",
    "    return runs_w_speed"
   ]
  },
  {
   "cell_type": "code",
   "execution_count": 178,
   "id": "78a2cfb1",
   "metadata": {},
   "outputs": [],
   "source": [
    "def Read_Transcript(path):\n",
    "    print(path)\n",
    "    with open(path) as f:\n",
    "        lines = f.readlines()\n",
    "\n",
    "    f.close()\n",
    "    start_of_sections = []\n",
    "    speed_changes = []\n",
    "    start_of_iterations = []\n",
    "    end_of_iterations = []\n",
    "\n",
    "    find_prog_patt = '(pexl|lpeg|rosie).* (\\\\w+) +\\\\d+'\n",
    "    find_prog_patt_searcher = re.compile(find_prog_patt)\n",
    "\n",
    "    speed_limit_pattern = ' (\\\\d+)\\n'\n",
    "    speed_limit_searcher = re.compile(speed_limit_pattern)\n",
    "\n",
    "    for i in range(0,len(lines)):\n",
    "        line = lines[i]\n",
    "\n",
    "        if line.find('Benchmark') > -1:\n",
    "            match = find_prog_patt_searcher.search(line)\n",
    "            assert len(match.groups() ) == 2,('Matched to many things in the pattern identifier '+match.groups())\n",
    "            line = match.groups()[1]+'_'+match.groups()[0]\n",
    "            start_of_sections.append( (line,i) )\n",
    "            print(line,' ',i)\n",
    "        elif line.find('CPU_Speed_Limit') > -1:\n",
    "            match = speed_limit_searcher.search(line)\n",
    "            if match is None:\n",
    "                print('ignoring line ', line,i) #I use this output to check that only a few lines are being ignored\n",
    "                continue\n",
    "            assert len(match.groups() ) == 1,'Matched to many things looking for speed limit changes'\n",
    "            speed_num = match.groups()[0]\n",
    "            speed_changes.append( (int(speed_num),i) )\n",
    "        elif line.find('Running ') > -1:\n",
    "            start_of_iterations.append( (line,i) )\n",
    "        elif line.find('Done.') > -1:\n",
    "            end_of_iterations.append( (line,i) )\n",
    "    return start_of_sections,speed_changes,start_of_iterations,end_of_iterations"
   ]
  },
  {
   "cell_type": "code",
   "execution_count": 179,
   "id": "1880f5cd",
   "metadata": {},
   "outputs": [],
   "source": [
    "def Create_DF(Speed_Dic,file,path):\n",
    "    DF_Dic ={}\n",
    "    counter = 2\n",
    "    print('File name - ',file+'\\n')\n",
    "    name_pattern = file.split('-')[0]\n",
    "    assert file.find('.json') != -1, ('Trying to read a non .json file '+file)\n",
    "    temp = pd.read_json(path+file, orient = 'records')\n",
    "    \n",
    "    progNames = []\n",
    "    for j in range(0,temp.shape[0]):\n",
    "        command = temp.iloc[j,0]['command']\n",
    "        \n",
    "        if command.find('lpeg') != -1:\n",
    "            found_prog = 'lpeg'\n",
    "        elif command.find('pexl') != -1:\n",
    "            found_prog = 'pexl'\n",
    "        elif command.find('rosie') != -1:\n",
    "            found_prog = 'rosie'\n",
    "\n",
    "        print('   Pattern Name - ',name_pattern+'_'+found_prog)\n",
    "        tempDF = pd.DataFrame(columns = [found_prog,found_prog+'_Speed'])\n",
    "        tempDF[found_prog] = temp.iloc[j,0]['times']\n",
    "        warmup_runs = len(Speed_Dic[name_pattern+'_'+found_prog]) - tempDF[ found_prog ].size\n",
    "        # There are 5 warm-up iterations before each run is recorded. These warmups are in the transcript but not \n",
    "        #  the actual data.\n",
    "        print('      Found',warmup_runs,'warm up runs.\\n')\n",
    "        #print('Length of json ',tempDF[found_prog].shape[0],' Length of .txt ',len(Speed_Dic[name_pattern+'_'+found_prog]))\n",
    "        tempDF[found_prog+'_Speed'] = Speed_Dic[name_pattern+'_'+found_prog][warmup_runs:]\n",
    "\n",
    "        key_name = name_pattern+'_'+found_prog\n",
    "        if key_name in DF_Dic.keys():\n",
    "            print('Found repeat key name ',key_name,' renaming to ',key_name+str(counter))\n",
    "            key_name = key_name+str(counter)\n",
    "            counter += 1\n",
    "\n",
    "        DF_Dic[key_name] = tempDF.copy()\n",
    "    return DF_Dic"
   ]
  },
  {
   "cell_type": "markdown",
   "id": "79eb915f",
   "metadata": {},
   "source": [
    "Search transcript files and process their contents for patterns and programs runs, iterations start and end, and cpu speed throttling changes."
   ]
  },
  {
   "cell_type": "code",
   "execution_count": 180,
   "id": "fa975cf6",
   "metadata": {},
   "outputs": [],
   "source": [
    "def Process_Transcript(path):\n",
    "    \n",
    "    start_of_sections,speed_changes,start_of_iterations,end_of_iterations = Read_Transcript(path)\n",
    "    \n",
    "    #print('Start Section',start_of_sections)\n",
    "    #print('Speed Section',speed_changes)\n",
    "    #print('Start Iteration Section',start_of_iterations)\n",
    "    #print('End Iteration Section',end_of_iterations)\n",
    "    \n",
    "    #start_of_iterations = remove_malformed(start_of_iterations,malformed_start_point,1)\n",
    "    #end_of_iterations = remove_malformed(end_of_iterations,malformed_start_point,1)\n",
    "    #speed_changes = remove_malformed(speed_changes,malformed_start_point,1)\n",
    "    \n",
    "    iterations = list(zip(start_of_iterations,end_of_iterations))\n",
    "    \n",
    "    runs_w_speed = Combine_Iteraction_W_Speed(iterations,speed_changes,start_of_sections)\n",
    "    runs_w_speed = Remove_Duplicate_Speed_Output(runs_w_speed)\n",
    "    Speed_Dic = Make_Speed_Dic(start_of_sections,runs_w_speed)\n",
    "    return Speed_Dic"
   ]
  },
  {
   "cell_type": "markdown",
   "id": "7dda0d97",
   "metadata": {},
   "source": [
    "Only run this section if data is malformed after some point"
   ]
  },
  {
   "cell_type": "code",
   "execution_count": 181,
   "id": "6dec1ea0",
   "metadata": {},
   "outputs": [],
   "source": [
    "# Function to remove bad data. You feed a list of tuples, the index where the bad data starts, and the location of \n",
    "#    each lines index value. It returns the same list except for entries whose index is greater than the index of \n",
    "#    the begining of the malformed section.\n",
    "\n",
    "def remove_malformed(data,point,location_of_index):\n",
    "    malformed_start_point = start_of_sections[4][1] #The laptop ran out of battery and shut down during this test. This\n",
    "                                                # resulted in data sections that were to poorly formated for \n",
    "                                                # recovery. \n",
    "    \n",
    "    assert type(data) == list, 'data is not a list and so cannot remove malformed section'\n",
    "    assert type(point) == int, 'start index of malformation is not int, must be an int'\n",
    "    assert type(data[0][location_of_index]) == int, 'data found at index specified is not an int'\n",
    "    \n",
    "    temp = []\n",
    "    for entry in data:\n",
    "        if entry[location_of_index] > point:\n",
    "            continue\n",
    "        else:\n",
    "            temp.append(entry)\n",
    "    return temp\n",
    "\n",
    "#Maybe I should put these lists in a dictionary so I can iterate over them. But this is fine for now.\n",
    "# Removing the data that is to malformed for use. \n",
    "# This bit also stitches the start and end of each iteration together. together. Because of the malformed section the start and end lists don't have\n",
    "#   equal lengths and so the inbuilt stich function can't be used.\n"
   ]
  },
  {
   "cell_type": "code",
   "execution_count": 182,
   "id": "1e24e1b3",
   "metadata": {},
   "outputs": [],
   "source": [
    "def Real_File(string):\n",
    "    if string.find('~') > -1:\n",
    "        return False\n",
    "    elif string.find('#') > -1:\n",
    "        return False\n",
    "    else:\n",
    "        return True"
   ]
  },
  {
   "cell_type": "markdown",
   "id": "31c4250e",
   "metadata": {},
   "source": [
    "Folders with Files in them"
   ]
  },
  {
   "cell_type": "code",
   "execution_count": 183,
   "id": "91dde618",
   "metadata": {},
   "outputs": [],
   "source": [
    "plugged_in_no_brower_7_20_22 = 'Plugged_In_No_Browser_7-20-22' # 10 runs each no enough for statistics\n",
    "plugged_in_no_brower_7_21_22 = 'Plugged_In_No_Browser_7-21-22' # 50 runs each\n",
    "plugged_in_with_brower_7_26_22 = 'Plugged_In_With_Browser_7-26-22' # 50 runs attemptings to see slow downs with new\n",
    "                                                                   # functionality to show processor speeds\n",
    "\n",
    "battery_two_test_at_once_7_27_22 = 'Battery_Two_Test_At_Once_7_27_22' # Ran two tests at once to test output \n",
    "                                                                      # of cpu speed outputs\n",
    "plugged_in_no_brower_8_9_22 = 'Plugged_In_No_Browser_8_9_22' # 1,000 runs of each program on two patterns. Looking\n",
    "                                                             # to test Trot's theory that VM's don't stabilize \n",
    "                                                             # runtime b/c to complicated.\n",
    "plugged_in_no_brower_8_10_22 = 'Plugged_In_No_Browser_8_10_22' #Repeating just the abram_lpeg performance test from\n",
    "                                                               # 8-9-22 to see if similar distro occurs\n",
    "currentPath = plugged_in_no_brower_8_10_22"
   ]
  },
  {
   "cell_type": "code",
   "execution_count": 184,
   "id": "b65b4cbd",
   "metadata": {},
   "outputs": [
    {
     "name": "stdout",
     "output_type": "stream",
     "text": [
      ".DS_Store\n",
      "Run2\n",
      "Plugged_In_No_Browser_8_10_22/Run2/transcript2.txt\n",
      "abram_lpeg   16\n",
      "File name -  abram-captureAll-22691.json\n",
      "\n",
      "   Pattern Name -  abram_lpeg\n",
      "      Found 5 warm up runs.\n",
      "\n",
      "Run3\n",
      "Plugged_In_No_Browser_8_10_22/Run3/transcript3.txt\n",
      "abram_lpeg   16\n",
      "File name -  abram-captureAll-19363.json\n",
      "\n",
      "   Pattern Name -  abram_lpeg\n",
      "      Found 5 warm up runs.\n",
      "\n",
      "Run1\n",
      "Plugged_In_No_Browser_8_10_22/Run1/transcript1.txt\n",
      "abram_lpeg   14\n",
      "File name -  abram-captureAll-25707.json\n",
      "\n",
      "   Pattern Name -  abram_lpeg\n",
      "      Found 5 warm up runs.\n",
      "\n",
      "dict_keys(['Run2', 'Run3', 'Run1'])\n"
     ]
    }
   ],
   "source": [
    "# This creates a dictionary whose keys are the pattern_program combo found in the transcript. The values are a \n",
    "#  two dimensional dataframe. 1 column is the duration of each iteration. 2nd column is a list of the \"cpu speed/s\"\n",
    "#  during that iteration.\n",
    "\n",
    "#colors = ['green','blue','red']\n",
    "\n",
    "folder_path = currentPath +'/'\n",
    "first_layer = os.listdir(currentPath)\n",
    "\n",
    "overallDF_Dic = {}\n",
    "\n",
    "for folder in first_layer:\n",
    "    print(folder)\n",
    "    if folder.find('Run') > -1:\n",
    "        second_layer = os.listdir(folder_path+folder)\n",
    "        for file in second_layer:\n",
    "            if (file.find('.txt') > -1) and Real_File(file):\n",
    "                Speed_Dic = Process_Transcript(folder_path+folder+'/'+file)\n",
    "        for file in second_layer:\n",
    "            if (file.find('.json') > -1) and Real_File(file):\n",
    "                overallDF_Dic[folder] = Create_DF(Speed_Dic,file,folder_path+folder+'/')\n",
    "print(overallDF_Dic.keys())"
   ]
  },
  {
   "cell_type": "markdown",
   "id": "19f3932a",
   "metadata": {},
   "source": [
    "### Function to calculate bandwidth value from data assuming bimodal distrobution"
   ]
  },
  {
   "cell_type": "code",
   "execution_count": 115,
   "id": "eacb3aef",
   "metadata": {},
   "outputs": [],
   "source": [
    "# Magic number comes from the wiki article on kde and how to estimate bandwidth from the data.\n",
    "# The wiki article suggested .9 as a good approximation for bimodal/multimodal distrubutions.\n",
    "def band_est(dataSet):\n",
    "    magic_num = .9\n",
    "    n = len(dataSet)\n",
    "    samp_std = dataSet.std()\n",
    "    q1 = np.quantile(dataSet,.25)\n",
    "    q3 = np.quantile(dataSet,.75)\n",
    "    IQR = q3-q1\n",
    "    bandwidth_estimate = magic_num * min(samp_std,IQR/1.34)*n**(-1/5)\n",
    "    return bandwidth_estimate"
   ]
  },
  {
   "cell_type": "markdown",
   "id": "f428ca3e",
   "metadata": {},
   "source": [
    "Funtion to calculate and plot the kde graphs "
   ]
  },
  {
   "cell_type": "code",
   "execution_count": 116,
   "id": "083d2857",
   "metadata": {},
   "outputs": [],
   "source": [
    "def kde_graph(data,title,ln_flag):\n",
    "    \n",
    "    dataArray = np.asarray(data[:,0], dtype=float)\n",
    "    if ln_flag:\n",
    "        dataArray = np.log(dataArray)\n",
    "    \n",
    "    dataArray = dataArray.reshape(-1,1)\n",
    "    \n",
    "    \n",
    "    #dataArray = np.log(dataArray[0])\n",
    "    \n",
    "    fineness_of_graph = 10000\n",
    "    \n",
    "    band_estimate = band_est(dataArray)\n",
    "\n",
    "    kde = KernelDensity(kernel='gaussian', bandwidth= band_estimate ).fit(dataArray)\n",
    "    s = np.linspace(min(dataArray)[0],max(dataArray)[0],fineness_of_graph)\n",
    "    e = kde.score_samples(s.reshape(-1,1))\n",
    "    \n",
    "    if title.find('lpeg') != -1:\n",
    "        color = 'green'\n",
    "    elif title.find('rosie') != -1:\n",
    "        color = 'red'\n",
    "    elif title.find('pexl') != -1:\n",
    "        color = 'blue'\n",
    "    else:\n",
    "        color = 'black'\n",
    "    \n",
    "    plt.plot(s, e, c = color)\n",
    "    plt.axhline(y=0)\n",
    "    \n",
    "    mi, ma = argrelextrema(e, np.less)[0], argrelextrema(e, np.greater)[0]\n",
    "    #print(\"Minima: X:\", s[mi],'\\n        Y:', e[mi], '\\n')\n",
    "    #print(\"\\nMaxima: X:\", s[ma],'\\n        Y:', e[ma],'\\n')\n",
    "    \n",
    "    #if min(e[mi]) < -100:\n",
    "    #    plt.yscale('symlog')\n",
    "    \n",
    "    mean = np.mean(dataArray)\n",
    "    median = np.median(dataArray)\n",
    "    \n",
    "    for points in data:\n",
    "        temp = np.mean(points[1])\n",
    "        if ln_flag:\n",
    "            point = np.log(points[0])\n",
    "        else:\n",
    "            point = points[0]\n",
    "        if temp < 100:\n",
    "            \n",
    "            norm = point-min(dataArray)[0]\n",
    "\n",
    "            \n",
    "            stepSize = (max(dataArray)[0] - min(dataArray)[0])/fineness_of_graph\n",
    "            \n",
    "            dif = round( norm/stepSize) -1\n",
    "            \n",
    "            plt.scatter(point,e[dif], c ='purple',)\n",
    "            \n",
    "    plt.vlines(x=mean,ymin = min(e), ymax = max(e), colors = 'grey')\n",
    "    plt.vlines(x=median,ymin = min(e), ymax = max(e), colors = 'teal')\n",
    "    print(np.sum(dataArray))\n",
    "    plt.title((title+' '+str(round(dataArray.std(),3) )) )\n",
    "    plt.show();\n",
    "    return (s[mi],e[mi]),(s[ma],e[ma])"
   ]
  },
  {
   "cell_type": "code",
   "execution_count": 117,
   "id": "25b86978",
   "metadata": {},
   "outputs": [],
   "source": [
    "def scale_speed(data):\n",
    "    temp = data.copy()\n",
    "    assert data.shape[1] == 2, 'Data has more/less columns than 2'\n",
    "    assert type(data.iloc[0,1]) == list, 'Second column is not a list'\n",
    "    \n",
    "    for row in temp.index:\n",
    "        if np.mean(temp.iloc[row,1]) < 100:\n",
    "            #print(temp.iloc[row,0])\n",
    "            #print(temp.iloc[row,0] * np.mean(temp.iloc[row,1])/100)\n",
    "            temp.iloc[row,0] = temp.iloc[row,0] * np.mean(temp.iloc[row,1])/100\n",
    "    return temp"
   ]
  },
  {
   "cell_type": "code",
   "execution_count": 118,
   "id": "0039e16e",
   "metadata": {},
   "outputs": [],
   "source": [
    "#print(type(DF_Dic['longword_lpeg'].iloc[0,1]))\n",
    "#test = scale_speed(DF_Dic['abram_lpeg'])\n",
    "#print(DF_Dic.keys())\n",
    "#kde_graph(test.to_numpy(),'test',True);\n",
    "#kde_graph(test.to_numpy(),'test',False);\n",
    "#type(test.to_numpy()[0,0])"
   ]
  },
  {
   "cell_type": "code",
   "execution_count": 141,
   "id": "c8dcd126",
   "metadata": {},
   "outputs": [
    {
     "name": "stdout",
     "output_type": "stream",
     "text": [
      "3650.8423537099998\n"
     ]
    },
    {
     "data": {
      "image/png": "[encoded data removed]",
      "text/plain": [
       "<Figure size 432x288 with 1 Axes>"
      ]
     },
     "metadata": {
      "needs_background": "light"
     },
     "output_type": "display_data"
    },
    {
     "name": "stdout",
     "output_type": "stream",
     "text": [
      "3657.3425890749995\n"
     ]
    },
    {
     "data": {
      "image/png": "[encoded data removed]",
      "text/plain": [
       "<Figure size 432x288 with 1 Axes>"
      ]
     },
     "metadata": {
      "needs_background": "light"
     },
     "output_type": "display_data"
    },
    {
     "name": "stdout",
     "output_type": "stream",
     "text": [
      "3656.687857084\n"
     ]
    },
    {
     "data": {
      "image/png": "[encoded data removed]",
      "text/plain": [
       "<Figure size 432x288 with 1 Axes>"
      ]
     },
     "metadata": {
      "needs_background": "light"
     },
     "output_type": "display_data"
    }
   ],
   "source": [
    "min_max_Dic = {}\n",
    "\n",
    "for folder in overallDF_Dic.keys():\n",
    "    #min_max_Dic[name] = (kde_graph(DF_Dic[name].to_numpy(),name,True))\n",
    "    for DF in overallDF_Dic[folder]:\n",
    "        #print(type(overallDF_Dic[folder][DF]))\n",
    "        min_max_Dic[folder+'_'+DF] = (kde_graph(overallDF_Dic[folder][DF].to_numpy(),folder+' '+DF,False))\n",
    "\n"
   ]
  },
  {
   "cell_type": "code",
   "execution_count": 148,
   "id": "812a8a1f",
   "metadata": {},
   "outputs": [
    {
     "name": "stdout",
     "output_type": "stream",
     "text": [
      "dict_keys(['Run2_abram_lpeg', 'Run3_abram_lpeg', 'Run1_abram_lpeg'])\n",
      "Run2_abram_lpeg\n",
      "Run3_abram_lpeg\n",
      "Run1_abram_lpeg\n"
     ]
    }
   ],
   "source": [
    "split_graph_dic = {}\n",
    "\n",
    "print(min_max_Dic.keys())\n",
    "for graph in min_max_Dic:\n",
    "    print(graph)\n",
    "    mi, ma = min_max_Dic[graph]\n",
    "    loc_val = zip(mi[0],mi[1])\n",
    "    temp = []\n",
    "    folder, prog, name = graph.split('_')\n",
    "    \n",
    "    currentDF = overallDF_Dic[folder][prog+'_'+name][name]\n",
    "    \n",
    "    temp.append(currentDF.min())\n",
    "    \n",
    "    for val in loc_val:\n",
    "        if val[1] < 0:\n",
    "            temp.append(val[0])\n",
    "    \n",
    "    temp.append(currentDF.max())\n",
    "    \n",
    "    split_graph_dic[graph] = []\n",
    "    \n",
    "    for counter in range(1,len(temp)):\n",
    "        if counter == len(temp)-1:\n",
    "            split_graph_dic[graph].append(currentDF[[ test for test in currentDF >= temp[counter-1] ]])\n",
    "        else:\n",
    "            temp2 = currentDF[[test for test in currentDF >= temp[counter - 1] ] ]\n",
    "            split_graph_dic[graph].append(temp2[[test for test in temp2 < temp[counter] ] ])\n",
    "            \n",
    "    sum_counter = 0\n",
    "    for lists in split_graph_dic[graph]:\n",
    "        sum_counter += len(lists)\n",
    "    \n",
    "    assert sum_counter == len(currentDF),('Missing/Double Counted Data in splitting set '+graph)"
   ]
  },
  {
   "cell_type": "markdown",
   "id": "80218f6e",
   "metadata": {},
   "source": [
    "Attempting to combine all the data into one set to look at distrobution of clock times."
   ]
  },
  {
   "cell_type": "code",
   "execution_count": 185,
   "id": "26da7324",
   "metadata": {
    "scrolled": true
   },
   "outputs": [
    {
     "name": "stdout",
     "output_type": "stream",
     "text": [
      "Run2_abram_lpeg\n",
      "916\n",
      "7\n",
      "4\n",
      "4\n",
      "2\n",
      "2\n",
      "1\n",
      "1\n",
      "3\n",
      "2\n",
      "1\n",
      "1\n",
      "1\n",
      "1\n",
      "2\n",
      "1\n",
      "1\n",
      "1\n",
      "1\n",
      "1\n",
      "42\n",
      "1\n",
      "2\n",
      "2\n",
      "Run3_abram_lpeg\n",
      "916\n",
      "4\n",
      "2\n",
      "1\n",
      "1\n",
      "1\n",
      "4\n",
      "1\n",
      "1\n",
      "1\n",
      "1\n",
      "63\n",
      "1\n",
      "1\n",
      "1\n",
      "1\n",
      "Run1_abram_lpeg\n",
      "899\n",
      "13\n",
      "5\n",
      "7\n",
      "2\n",
      "3\n",
      "1\n",
      "1\n",
      "1\n",
      "1\n",
      "1\n",
      "1\n",
      "59\n",
      "3\n",
      "1\n",
      "1\n",
      "1\n"
     ]
    },
    {
     "data": {
      "text/plain": [
       "dict_keys(['Run2_abram_lpeg', 'Run3_abram_lpeg', 'Run1_abram_lpeg'])"
      ]
     },
     "execution_count": 185,
     "metadata": {},
     "output_type": "execute_result"
    }
   ],
   "source": [
    "bar_graph_Dic = {}\n",
    "for graph in split_graph_dic:\n",
    "    print(graph)\n",
    "    bar_graph_Dic[graph] = []\n",
    "    for lists in split_graph_dic[graph]:\n",
    "        length = len(lists)\n",
    "        print(length)\n",
    "        bar_graph_Dic[graph].append(length)\n",
    "bar_graph_Dic.keys()"
   ]
  },
  {
   "cell_type": "code",
   "execution_count": 162,
   "id": "65d7e783",
   "metadata": {},
   "outputs": [
    {
     "name": "stdout",
     "output_type": "stream",
     "text": [
      "Run2\n",
      "abram_lpeg\n"
     ]
    },
    {
     "data": {
      "image/png": "[encoded data removed]",
      "text/plain": [
       "<Figure size 432x288 with 1 Axes>"
      ]
     },
     "metadata": {
      "needs_background": "light"
     },
     "output_type": "display_data"
    },
    {
     "name": "stdout",
     "output_type": "stream",
     "text": [
      "Mean of 1st Regime is 3.6232 vs Mean of Whole is 3.6508\n",
      "A change of 0.756 % in the Mean\n",
      "\n",
      "Standard Deviation of 1st Regime is 0.0104 vs Stand Deviation of Whole is 0.1065\n",
      "A change of 90.2347 % in the Stand Deviation\n",
      "Run3\n",
      "abram_lpeg\n"
     ]
    },
    {
     "data": {
      "image/png": "[encoded data removed]",
      "text/plain": [
       "<Figure size 432x288 with 1 Axes>"
      ]
     },
     "metadata": {
      "needs_background": "light"
     },
     "output_type": "display_data"
    },
    {
     "name": "stdout",
     "output_type": "stream",
     "text": [
      "Mean of 1st Regime is 3.6228 vs Mean of Whole is 3.6573\n",
      "A change of 0.9433 % in the Mean\n",
      "\n",
      "Standard Deviation of 1st Regime is 0.0098 vs Stand Deviation of Whole is 0.123\n",
      "A change of 92.0325 % in the Stand Deviation\n",
      "Run1\n",
      "abram_lpeg\n"
     ]
    },
    {
     "data": {
      "image/png": "[encoded data removed]",
      "text/plain": [
       "<Figure size 432x288 with 1 Axes>"
      ]
     },
     "metadata": {
      "needs_background": "light"
     },
     "output_type": "display_data"
    },
    {
     "name": "stdout",
     "output_type": "stream",
     "text": [
      "Mean of 1st Regime is 3.6223 vs Mean of Whole is 3.6567\n",
      "A change of 0.9407 % in the Mean\n",
      "\n",
      "Standard Deviation of 1st Regime is 0.0091 vs Stand Deviation of Whole is 0.1205\n",
      "A change of 92.4481 % in the Stand Deviation\n"
     ]
    }
   ],
   "source": [
    "def JamieSuggestion(folder,pattern):\n",
    "    \n",
    "    tempDF = overallDF_Dic[folder][pattern]\n",
    "    name = tempDF.columns[0]\n",
    "    SplitKey = folder+'_'+pattern\n",
    "\n",
    "    if name.find('lpeg') != -1:\n",
    "        color = 'green'\n",
    "    elif name.find('pexl') != -1:\n",
    "        color = 'blue'\n",
    "    elif name.find('rosie') != -1:\n",
    "        color = 'red'\n",
    "\n",
    "    plt.scatter(tempDF[name].index, tempDF[name], color = 'grey')\n",
    "\n",
    "    #if name.find('lpeg') != -1:\n",
    "    #    color = 'cyan'\n",
    "    #elif name.find('pexl') != -1:\n",
    "    #    color = 'darkorange'\n",
    "    #elif name.find('rosie') != -1:\n",
    "    #    color = 'indigo'\n",
    "\n",
    "    plt.scatter(split_graph_dic[SplitKey][0].index, split_graph_dic[SplitKey][0], color = color)\n",
    "    \n",
    "    stand_dev = round(np.std(split_graph_dic[SplitKey][0]),4)\n",
    "    mean = round(np.mean(split_graph_dic[SplitKey][0]),4)\n",
    "    stand_dev_whole = round(np.std(tempDF[name]),4)\n",
    "    mean_whole = round(np.mean(tempDF[name]),4)\n",
    "    \n",
    "    plt.title(folder+' '+pattern)\n",
    "    plt.show()\n",
    "    \n",
    "    \n",
    "    print('Mean of 1st Regime is',mean,'vs Mean of Whole is',mean_whole)\n",
    "    print('A change of',round( (mean_whole-mean)/mean_whole*100,4),'% in the Mean\\n' )\n",
    "    print('Standard Deviation of 1st Regime is',stand_dev,'vs Stand Deviation of Whole is',stand_dev_whole)\n",
    "    print('A change of',round( (stand_dev_whole-stand_dev)/stand_dev_whole*100,4),'% in the Stand Deviation'  )\n",
    "    \n",
    "for folder in overallDF_Dic:\n",
    "    print(folder)\n",
    "    for pattern in overallDF_Dic[DF]:\n",
    "        print(pattern)\n",
    "        JamieSuggestion(folder,pattern)"
   ]
  },
  {
   "cell_type": "code",
   "execution_count": 151,
   "id": "8b0e9363",
   "metadata": {},
   "outputs": [
    {
     "data": {
      "image/png": "[encoded data removed]",
      "text/plain": [
       "<Figure size 432x288 with 1 Axes>"
      ]
     },
     "metadata": {
      "needs_background": "light"
     },
     "output_type": "display_data"
    }
   ],
   "source": [
    "#labels = bar_graph_Dic.keys()\n",
    "width = .55\n",
    "colorList = ['indianred','royalblue','darkorange','darkcyan','sienna','darkmagenta','slategray','black']\n",
    "\n",
    "fig, ax = plt.subplots()\n",
    "\n",
    "\n",
    "for label in bar_graph_Dic.keys():\n",
    "    count = 0\n",
    "    sums = 0\n",
    "    for num in bar_graph_Dic[label]:\n",
    "        if count == 0:\n",
    "            ax.bar(label,num,width,label=label, color = colorList[count])\n",
    "            sums = num\n",
    "        else:\n",
    "            ax.bar(label,num,width, bottom = sums, label=count ,color = colorList[count%len(colorList)])\n",
    "            sums += num\n",
    "        count += 1\n",
    "#ax.legend()\n",
    "plt.xticks(rotation=270)\n",
    "plt.show();"
   ]
  },
  {
   "cell_type": "code",
   "execution_count": null,
   "id": "451e4086",
   "metadata": {},
   "outputs": [],
   "source": []
  },
  {
   "cell_type": "code",
   "execution_count": null,
   "id": "34e821c7",
   "metadata": {},
   "outputs": [],
   "source": []
  }
 ],
 "metadata": {
  "kernelspec": {
   "display_name": "Python 3",
   "language": "python",
   "name": "python3"
  },
  "language_info": {
   "codemirror_mode": {
    "name": "ipython",
    "version": 3
   },
   "file_extension": ".py",
   "mimetype": "text/x-python",
   "name": "python",
   "nbconvert_exporter": "python",
   "pygments_lexer": "ipython3",
   "version": "3.8.8"
  }
 },
 "nbformat": 4,
 "nbformat_minor": 5
}
