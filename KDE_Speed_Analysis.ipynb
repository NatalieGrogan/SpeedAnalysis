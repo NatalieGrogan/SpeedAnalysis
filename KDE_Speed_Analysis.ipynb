{
 "cells": [
  {
   "cell_type": "code",
   "execution_count": 1,
   "id": "194537bd",
   "metadata": {},
   "outputs": [],
   "source": [
    "import numpy as np\n",
    "import pandas as pd\n",
    "import matplotlib.pyplot as plt\n",
    "import os\n",
    "from scipy import stats\n",
    "from sklearn.neighbors import KernelDensity\n",
    "from scipy.signal import argrelextrema\n",
    "import re\n",
    "\n",
    "PValue=.01"
   ]
  },
  {
   "cell_type": "code",
   "execution_count": 2,
   "id": "1880f5cd",
   "metadata": {},
   "outputs": [],
   "source": [
    "def Create_DF(Speed_Dic,file,path):\n",
    "    DF_Dic ={}\n",
    "    counter = 2\n",
    "    print('File name - ',file+'\\n')\n",
    "    name_pattern = file.split('-')[0]\n",
    "    assert file.find('.json') != -1, ('Trying to read a non .json file '+file)\n",
    "    temp = pd.read_json(path+file, orient = 'records')\n",
    "    \n",
    "    progNames = []\n",
    "    for j in range(0,temp.shape[0]):\n",
    "        command = temp.iloc[j,0]['command']\n",
    "        \n",
    "        if command.find('lpeg') != -1:\n",
    "            found_prog = 'lpeg'\n",
    "        elif command.find('pexl') != -1:\n",
    "            found_prog = 'pexl'\n",
    "        elif command.find('rosie') != -1:\n",
    "            found_prog = 'rosie'\n",
    "\n",
    "        print('   Pattern Name - ',name_pattern+'_'+found_prog)\n",
    "        tempDF = pd.DataFrame(columns = [found_prog,found_prog+'_Speed'])\n",
    "        tempDF[found_prog] = temp.iloc[j,0]['times']\n",
    "        warmup_runs = len(Speed_Dic[name_pattern+'_'+found_prog]) - tempDF[ found_prog ].size\n",
    "        # There are 5 warm-up iterations before each run is recorded. These warmups are in the transcript but not \n",
    "        #  the actual data.\n",
    "        print('      Found',warmup_runs,'warm up runs.\\n')\n",
    "        #print('Length of json ',tempDF[found_prog].shape[0],' Length of .txt ',len(Speed_Dic[name_pattern+'_'+found_prog]))\n",
    "        tempDF[found_prog+'_Speed'] = Speed_Dic[name_pattern+'_'+found_prog][warmup_runs:]\n",
    "\n",
    "        key_name = name_pattern+'_'+found_prog\n",
    "        if key_name in DF_Dic.keys():\n",
    "            print('Found repeat key name ',key_name,' renaming to ',key_name+str(counter))\n",
    "            key_name = key_name+str(counter)\n",
    "            counter += 1\n",
    "\n",
    "        DF_Dic[key_name] = tempDF.copy()\n",
    "    return DF_Dic"
   ]
  },
  {
   "cell_type": "code",
   "execution_count": 3,
   "id": "a6e7b593",
   "metadata": {},
   "outputs": [],
   "source": [
    "def Read_Transcript2(path):\n",
    "    print(path)\n",
    "    with open(path) as f:\n",
    "        lines = f.readlines()\n",
    "\n",
    "    f.close()\n",
    "\n",
    "    section = None\n",
    "    speed = 100\n",
    "\n",
    "    find_prog_patt = '(pexl|lpeg|rosie).* (\\\\w+) +\\\\d+'\n",
    "    find_prog_patt_searcher = re.compile(find_prog_patt)\n",
    "\n",
    "    speed_limit_pattern = ' (\\\\d+)\\n'\n",
    "    speed_limit_searcher = re.compile(speed_limit_pattern)\n",
    "\n",
    "    Speed_Dic = {}\n",
    "    tempList = []\n",
    "    speedList = []\n",
    "    \n",
    "    for i in range(0,len(lines)):\n",
    "        line = lines[i]\n",
    "\n",
    "        if line.find('Benchmark') > -1:\n",
    "            match = find_prog_patt_searcher.search(line)\n",
    "            assert len(match.groups() ) == 2,('Matched to many things in the pattern identifier '+match.groups())\n",
    "            patt_prog = match.groups()[1]+'_'+match.groups()[0]\n",
    "            if section is None:\n",
    "                section = patt_prog\n",
    "            else:\n",
    "                Speed_Dic[section] = tempList\n",
    "                section = patt_prog\n",
    "                tempList = []\n",
    "            print(section, i)\n",
    "        elif line.find('CPU_Speed_Limit') > -1:\n",
    "            match = speed_limit_searcher.search(line)\n",
    "            if match is None:\n",
    "                print('ignoring line ', line,i) #I use this output to check that only a few lines are being ignored\n",
    "                continue\n",
    "            assert len(match.groups() ) == 1,'Matched to many things looking for speed limit changes'\n",
    "            speed = int(match.groups()[0])\n",
    "            if speedList:\n",
    "                speedList.append(speed)\n",
    "        elif line.find('Running ') > -1:\n",
    "            speedList.append(speed)\n",
    "        elif line.find('Done.') > -1:\n",
    "            tempList.append( (speedList) )\n",
    "            speedList = []\n",
    "\n",
    "        if i == (len(lines)-1):\n",
    "            Speed_Dic[section] = tempList\n",
    "\n",
    "    return Speed_Dic"
   ]
  },
  {
   "cell_type": "code",
   "execution_count": 4,
   "id": "1e24e1b3",
   "metadata": {},
   "outputs": [],
   "source": [
    "def Real_File(string):\n",
    "    if string.find('~') > -1:\n",
    "        return False\n",
    "    elif string.find('#') > -1:\n",
    "        return False\n",
    "    else:\n",
    "        return True"
   ]
  },
  {
   "cell_type": "markdown",
   "id": "31c4250e",
   "metadata": {},
   "source": [
    "Folders with Files in them"
   ]
  },
  {
   "cell_type": "code",
   "execution_count": 5,
   "id": "91dde618",
   "metadata": {},
   "outputs": [],
   "source": [
    "plugged_in_no_brower_7_20_22 = 'Plugged_In_No_Browser_7-20-22' # 10 runs each no enough for statistics\n",
    "plugged_in_no_brower_7_21_22 = 'Plugged_In_No_Browser_7-21-22' # 50 runs each\n",
    "plugged_in_with_brower_7_26_22 = 'Plugged_In_With_Browser_7-26-22' # 50 runs attemptings to see slow downs with new\n",
    "                                                                   # functionality to show processor speeds\n",
    "\n",
    "battery_two_test_at_once_7_27_22 = 'Battery_Two_Test_At_Once_7_27_22' # Ran two tests at once to test output \n",
    "                                                                      # of cpu speed outputs\n",
    "plugged_in_no_brower_8_9_22 = 'Plugged_In_No_Browser_8_9_22' # 1,000 runs of each program on two patterns. Looking\n",
    "                                                             # to test Trot's theory that VM's don't stabilize \n",
    "                                                             # runtime b/c to complicated.\n",
    "plugged_in_no_brower_8_10_22 = 'Plugged_In_No_Browser_8_10_22' #Repeating just the abram_lpeg performance test from\n",
    "                                                               # 8-9-22 to see if similar distro occurs\n",
    "plugged_in_browser_8_10_22_2 = 'Plugged_In_Browser_8_10_22-2' #Repeating above test but with 100 runs of pattern \n",
    "                                                              # vs 50 runs of pattern per iteration\n",
    "\n",
    "# tests from 8-10-22 show that there is a memory allocation issue that effects ~5% of the runs. Sometimes the\n",
    "# initial memory allotment from OS is in a \"bad\" location. This means that when the program needs more memory\n",
    "# the OS can't just release adjacent memory blocks but instead must move the whole program/data structure to\n",
    "# another location which incurs a ~.1 penalty per run.\n",
    "\n",
    "currentPath = plugged_in_browser_8_10_22_2"
   ]
  },
  {
   "cell_type": "code",
   "execution_count": 6,
   "id": "b65b4cbd",
   "metadata": {},
   "outputs": [
    {
     "name": "stdout",
     "output_type": "stream",
     "text": [
      ".DS_Store\n",
      "Run2\n",
      "Plugged_In_Browser_8_10_22-2/Run2/transcript.txt\n",
      "abram_lpeg 15\n",
      "dict_keys(['abram_lpeg'])\n",
      "File name -  abram-captureAll-27379.json\n",
      "\n",
      "   Pattern Name -  abram_lpeg\n",
      "      Found 5 warm up runs.\n",
      "\n",
      "Run1\n",
      "Plugged_In_Browser_8_10_22-2/Run1/transcript2.txt\n",
      "abram_lpeg 11\n",
      "dict_keys(['abram_lpeg'])\n",
      "File name -  abram-captureAll-4258.json\n",
      "\n",
      "   Pattern Name -  abram_lpeg\n",
      "      Found 5 warm up runs.\n",
      "\n",
      "dict_keys(['Run2-abram', 'Run1-abram'])\n"
     ]
    }
   ],
   "source": [
    "# This creates a dictionary whose keys are the pattern_program combo found in the transcript. The values are a \n",
    "#  two dimensional dataframe. 1 column is the duration of each iteration. 2nd column is a list of the \"cpu speed/s\"\n",
    "#  during that iteration.\n",
    "\n",
    "#colors = ['green','blue','red']\n",
    "\n",
    "folder_path = currentPath +'/'\n",
    "first_layer = os.listdir(currentPath)\n",
    "\n",
    "overallDF_Dic = {}\n",
    "\n",
    "for folder in first_layer:\n",
    "    print(folder)\n",
    "    if folder.find('Run') > -1:\n",
    "        second_layer = os.listdir(folder_path+folder)\n",
    "        for file in second_layer:\n",
    "            if (file.find('.txt') > -1) and Real_File(file):\n",
    "                Speed_Dic = Read_Transcript2(folder_path+folder+'/'+file)\n",
    "                print(Speed_Dic.keys())\n",
    "        for file in second_layer:\n",
    "            if (file.find('.json') > -1) and Real_File(file):\n",
    "                name = file.split('-')[0]\n",
    "                overallDF_Dic[folder+'-'+name] = Create_DF(Speed_Dic,file,folder_path+folder+'/')\n",
    "print(overallDF_Dic.keys())"
   ]
  },
  {
   "cell_type": "markdown",
   "id": "19f3932a",
   "metadata": {},
   "source": [
    "### Function to calculate bandwidth value from data assuming bimodal distrobution"
   ]
  },
  {
   "cell_type": "code",
   "execution_count": 7,
   "id": "eacb3aef",
   "metadata": {},
   "outputs": [],
   "source": [
    "# Magic number comes from the wiki article on kde and how to estimate bandwidth from the data.\n",
    "# The wiki article suggested .9 as a good approximation for bimodal/multimodal distrubutions.\n",
    "def band_est(dataSet):\n",
    "    magic_num = .9\n",
    "    n = len(dataSet)\n",
    "    samp_std = dataSet.std()\n",
    "    q1 = np.quantile(dataSet,.25)\n",
    "    q3 = np.quantile(dataSet,.75)\n",
    "    IQR = q3-q1\n",
    "    bandwidth_estimate = magic_num * min(samp_std,IQR/1.34)*n**(-1/5)\n",
    "    return bandwidth_estimate"
   ]
  },
  {
   "cell_type": "markdown",
   "id": "f428ca3e",
   "metadata": {},
   "source": [
    "Funtion to calculate and plot the kde graphs "
   ]
  },
  {
   "cell_type": "code",
   "execution_count": 8,
   "id": "083d2857",
   "metadata": {},
   "outputs": [],
   "source": [
    "def kde_graph(data,title,ln_flag):\n",
    "    \n",
    "    dataArray = np.asarray(data[:,0], dtype=float)\n",
    "    if ln_flag:\n",
    "        dataArray = np.log(dataArray)\n",
    "    \n",
    "    dataArray = dataArray.reshape(-1,1)\n",
    "    \n",
    "    \n",
    "    #dataArray = np.log(dataArray[0])\n",
    "    \n",
    "    fineness_of_graph = 10000\n",
    "    \n",
    "    band_estimate = band_est(dataArray)\n",
    "\n",
    "    kde = KernelDensity(kernel='gaussian', bandwidth= band_estimate ).fit(dataArray)\n",
    "    s = np.linspace(min(dataArray)[0],max(dataArray)[0],fineness_of_graph)\n",
    "    e = kde.score_samples(s.reshape(-1,1))\n",
    "    \n",
    "    if title.find('lpeg') != -1:\n",
    "        color = 'green'\n",
    "    elif title.find('rosie') != -1:\n",
    "        color = 'red'\n",
    "    elif title.find('pexl') != -1:\n",
    "        color = 'blue'\n",
    "    else:\n",
    "        color = 'black'\n",
    "    \n",
    "    plt.plot(s, e, c = color)\n",
    "    plt.axhline(y=0)\n",
    "    \n",
    "    mi, ma = argrelextrema(e, np.less)[0], argrelextrema(e, np.greater)[0]\n",
    "    #print(\"Minima: X:\", s[mi],'\\n        Y:', e[mi], '\\n')\n",
    "    #print(\"\\nMaxima: X:\", s[ma],'\\n        Y:', e[ma],'\\n')\n",
    "    \n",
    "    #if min(e[mi]) < -100:\n",
    "    #    plt.yscale('symlog')\n",
    "    \n",
    "    mean = np.mean(dataArray)\n",
    "    median = np.median(dataArray)\n",
    "    \n",
    "    for points in data:\n",
    "        temp = np.mean(points[1])\n",
    "        if ln_flag:\n",
    "            point = np.log(points[0])\n",
    "        else:\n",
    "            point = points[0]\n",
    "        if temp < 100:\n",
    "            \n",
    "            norm = point-min(dataArray)[0]\n",
    "\n",
    "            \n",
    "            stepSize = (max(dataArray)[0] - min(dataArray)[0])/fineness_of_graph\n",
    "            \n",
    "            dif = round( norm/stepSize) -1\n",
    "            \n",
    "            plt.scatter(point,e[dif], c ='purple',)\n",
    "            \n",
    "    plt.vlines(x=mean,ymin = min(e), ymax = max(e), colors = 'grey')\n",
    "    plt.vlines(x=median,ymin = min(e), ymax = max(e), colors = 'teal')\n",
    "    print(round(np.sum(dataArray),2))\n",
    "    plt.title((title+' '+str(round(dataArray.std(),3) )) )\n",
    "    plt.show();\n",
    "    return (s[mi],e[mi]),(s[ma],e[ma])"
   ]
  },
  {
   "cell_type": "code",
   "execution_count": 9,
   "id": "25b86978",
   "metadata": {},
   "outputs": [],
   "source": [
    "def scale_speed(data):\n",
    "    temp = data.copy()\n",
    "    assert data.shape[1] == 2, 'Data has more/less columns than 2'\n",
    "    assert type(data.iloc[0,1]) == list, 'Second column is not a list'\n",
    "    \n",
    "    for row in temp.index:\n",
    "        if np.mean(temp.iloc[row,1]) < 100:\n",
    "            #print(temp.iloc[row,0])\n",
    "            #print(temp.iloc[row,0] * np.mean(temp.iloc[row,1])/100)\n",
    "            temp.iloc[row,0] = temp.iloc[row,0] * np.mean(temp.iloc[row,1])/100\n",
    "    return temp"
   ]
  },
  {
   "cell_type": "code",
   "execution_count": 10,
   "id": "0039e16e",
   "metadata": {},
   "outputs": [],
   "source": [
    "#print(type(DF_Dic['longword_lpeg'].iloc[0,1]))\n",
    "#test = scale_speed(DF_Dic['abram_lpeg'])\n",
    "#print(DF_Dic.keys())\n",
    "#kde_graph(test.to_numpy(),'test',True);\n",
    "#kde_graph(test.to_numpy(),'test',False);\n",
    "#type(test.to_numpy()[0,0])"
   ]
  },
  {
   "cell_type": "code",
   "execution_count": 11,
   "id": "c8dcd126",
   "metadata": {},
   "outputs": [
    {
     "name": "stdout",
     "output_type": "stream",
     "text": [
      "7297.3\n"
     ]
    },
    {
     "data": {
      "image/png": "[encoded data removed]",
      "text/plain": [
       "<Figure size 432x288 with 1 Axes>"
      ]
     },
     "metadata": {
      "needs_background": "light"
     },
     "output_type": "display_data"
    },
    {
     "name": "stdout",
     "output_type": "stream",
     "text": [
      "7284.11\n"
     ]
    },
    {
     "data": {
      "image/png": "[encoded data removed]",
      "text/plain": [
       "<Figure size 432x288 with 1 Axes>"
      ]
     },
     "metadata": {
      "needs_background": "light"
     },
     "output_type": "display_data"
    }
   ],
   "source": [
    "min_max_Dic = {}\n",
    "\n",
    "for folder in overallDF_Dic.keys():\n",
    "    #min_max_Dic[name] = (kde_graph(DF_Dic[name].to_numpy(),name,True))\n",
    "    for DF in overallDF_Dic[folder]:\n",
    "        #print(type(overallDF_Dic[folder][DF]))\n",
    "        min_max_Dic[folder+'_'+DF] = (kde_graph(overallDF_Dic[folder][DF].to_numpy(),folder+' '+DF,False))\n",
    "\n"
   ]
  },
  {
   "cell_type": "code",
   "execution_count": 12,
   "id": "812a8a1f",
   "metadata": {},
   "outputs": [
    {
     "name": "stdout",
     "output_type": "stream",
     "text": [
      "dict_keys(['Run2-abram_abram_lpeg', 'Run1-abram_abram_lpeg'])\n",
      "Run2-abram_abram_lpeg\n",
      "Run1-abram_abram_lpeg\n"
     ]
    }
   ],
   "source": [
    "split_graph_dic = {}\n",
    "\n",
    "print(min_max_Dic.keys())\n",
    "for graph in min_max_Dic:\n",
    "    print(graph)\n",
    "    mi, ma = min_max_Dic[graph]\n",
    "    loc_val = zip(mi[0],mi[1])\n",
    "    temp = []\n",
    "    folder, prog, name = graph.split('_')\n",
    "    \n",
    "    currentDF = overallDF_Dic[folder][prog+'_'+name][name]\n",
    "    \n",
    "    temp.append(currentDF.min())\n",
    "    \n",
    "    for val in loc_val:\n",
    "        if val[1] < 0:\n",
    "            temp.append(val[0])\n",
    "    \n",
    "    temp.append(currentDF.max())\n",
    "    \n",
    "    split_graph_dic[graph] = []\n",
    "    \n",
    "    for counter in range(1,len(temp)):\n",
    "        if counter == len(temp)-1:\n",
    "            split_graph_dic[graph].append(currentDF[[ test for test in currentDF >= temp[counter-1] ]])\n",
    "        else:\n",
    "            temp2 = currentDF[[test for test in currentDF >= temp[counter - 1] ] ]\n",
    "            split_graph_dic[graph].append(temp2[[test for test in temp2 < temp[counter] ] ])\n",
    "            \n",
    "    sum_counter = 0\n",
    "    for lists in split_graph_dic[graph]:\n",
    "        sum_counter += len(lists)\n",
    "    \n",
    "    assert sum_counter == len(currentDF),('Missing/Double Counted Data in splitting set '+graph)"
   ]
  },
  {
   "cell_type": "markdown",
   "id": "80218f6e",
   "metadata": {},
   "source": [
    "Attempting to combine all the data into one set to look at distrobution of clock times."
   ]
  },
  {
   "cell_type": "code",
   "execution_count": 15,
   "id": "26da7324",
   "metadata": {
    "scrolled": true
   },
   "outputs": [
    {
     "name": "stdout",
     "output_type": "stream",
     "text": [
      "Run2-abram_abram_lpeg\n",
      "893\n",
      "13\n",
      "9\n",
      "3\n",
      "4\n",
      "4\n",
      "1\n",
      "1\n",
      "1\n",
      "1\n",
      "2\n",
      "1\n",
      "60\n",
      "4\n",
      "1\n",
      "1\n",
      "1\n",
      "Run1-abram_abram_lpeg\n",
      "904\n",
      "18\n",
      "7\n",
      "4\n",
      "3\n",
      "2\n",
      "2\n",
      "1\n",
      "1\n",
      "1\n",
      "1\n",
      "1\n",
      "1\n",
      "1\n",
      "1\n",
      "48\n",
      "1\n",
      "1\n",
      "1\n",
      "1\n"
     ]
    },
    {
     "data": {
      "text/plain": [
       "dict_keys(['Run2-abram_abram_lpeg', 'Run1-abram_abram_lpeg'])"
      ]
     },
     "execution_count": 15,
     "metadata": {},
     "output_type": "execute_result"
    }
   ],
   "source": [
    "bar_graph_Dic = {}\n",
    "for graph in split_graph_dic:\n",
    "    print(graph)\n",
    "    bar_graph_Dic[graph] = []\n",
    "    for lists in split_graph_dic[graph]:\n",
    "        length = len(lists)\n",
    "        print(length)\n",
    "        bar_graph_Dic[graph].append(length)\n",
    "bar_graph_Dic.keys()"
   ]
  },
  {
   "cell_type": "code",
   "execution_count": 14,
   "id": "65d7e783",
   "metadata": {},
   "outputs": [
    {
     "name": "stdout",
     "output_type": "stream",
     "text": [
      "Run2-abram\n",
      "abram_lpeg\n"
     ]
    },
    {
     "data": {
      "image/png": "[encoded data removed]",
      "text/plain": [
       "<Figure size 432x288 with 1 Axes>"
      ]
     },
     "metadata": {
      "needs_background": "light"
     },
     "output_type": "display_data"
    },
    {
     "name": "stdout",
     "output_type": "stream",
     "text": [
      "Mean of 1st Regime is 7.2279 vs Mean of Whole is 7.2973 \n",
      "\n",
      "Standard Deviation of 1st Regime is 0.0164 vs Stand Deviation of Whole is 0.2433 \n",
      "\n",
      "Run1-abram\n",
      "abram_lpeg\n"
     ]
    },
    {
     "data": {
      "image/png": "[encoded data removed]",
      "text/plain": [
       "<Figure size 432x288 with 1 Axes>"
      ]
     },
     "metadata": {
      "needs_background": "light"
     },
     "output_type": "display_data"
    },
    {
     "name": "stdout",
     "output_type": "stream",
     "text": [
      "Mean of 1st Regime is 7.2269 vs Mean of Whole is 7.2841 \n",
      "\n",
      "Standard Deviation of 1st Regime is 0.0158 vs Stand Deviation of Whole is 0.2204 \n",
      "\n"
     ]
    }
   ],
   "source": [
    "def JamieSuggestion(folder,pattern):\n",
    "    \n",
    "    tempDF = overallDF_Dic[folder][pattern]\n",
    "    name = tempDF.columns[0]\n",
    "    SplitKey = folder+'_'+pattern\n",
    "\n",
    "    if name.find('lpeg') != -1:\n",
    "        color = 'green'\n",
    "    elif name.find('pexl') != -1:\n",
    "        color = 'blue'\n",
    "    elif name.find('rosie') != -1:\n",
    "        color = 'red'\n",
    "\n",
    "    plt.scatter(tempDF[name].index, tempDF[name], color = 'grey')\n",
    "\n",
    "    #if name.find('lpeg') != -1:\n",
    "    #    color = 'cyan'\n",
    "    #elif name.find('pexl') != -1:\n",
    "    #    color = 'darkorange'\n",
    "    #elif name.find('rosie') != -1:\n",
    "    #    color = 'indigo'\n",
    "\n",
    "    plt.scatter(split_graph_dic[SplitKey][0].index, split_graph_dic[SplitKey][0], color = color)\n",
    "    \n",
    "    stand_dev = round(np.std(split_graph_dic[SplitKey][0]),4)\n",
    "    mean = round(np.mean(split_graph_dic[SplitKey][0]),4)\n",
    "    stand_dev_whole = round(np.std(tempDF[name]),4)\n",
    "    mean_whole = round(np.mean(tempDF[name]),4)\n",
    "    \n",
    "    plt.title(folder+' '+pattern)\n",
    "    plt.show()\n",
    "    \n",
    "    \n",
    "    print('Mean of 1st Regime is',mean,'vs Mean of Whole is',mean_whole,'\\n')\n",
    "    #print('A change of',round( (mean_whole/(mean_whole-mean)*100),4),'% in the Mean\\n' )\n",
    "    print('Standard Deviation of 1st Regime is',stand_dev,'vs Stand Deviation of Whole is',stand_dev_whole,'\\n')\n",
    "    #print('A change of',round( (stand_dev_whole/(stand_dev_whole-stand_dev)*100),4),'% in the Stand Deviation'  )\n",
    "    \n",
    "for folder in overallDF_Dic:\n",
    "    print(folder)\n",
    "    for pattern in overallDF_Dic[folder]:\n",
    "        print(pattern)\n",
    "        JamieSuggestion(folder,pattern)"
   ]
  },
  {
   "cell_type": "code",
   "execution_count": 16,
   "id": "8b0e9363",
   "metadata": {},
   "outputs": [
    {
     "data": {
      "image/png": "[encoded data removed]",
      "text/plain": [
       "<Figure size 432x288 with 1 Axes>"
      ]
     },
     "metadata": {
      "needs_background": "light"
     },
     "output_type": "display_data"
    }
   ],
   "source": [
    "#labels = bar_graph_Dic.keys()\n",
    "width = .55\n",
    "colorList = ['indianred','royalblue','darkorange','darkcyan','sienna','darkmagenta','slategray','black']\n",
    "\n",
    "fig, ax = plt.subplots()\n",
    "\n",
    "\n",
    "for label in bar_graph_Dic.keys():\n",
    "    count = 0\n",
    "    sums = 0\n",
    "    for num in bar_graph_Dic[label]:\n",
    "        if count == 0:\n",
    "            ax.bar(label,num,width,label=label, color = colorList[count])\n",
    "            sums = num\n",
    "        else:\n",
    "            ax.bar(label,num,width, bottom = sums, label=count ,color = colorList[count%len(colorList)])\n",
    "            sums += num\n",
    "        count += 1\n",
    "#ax.legend()\n",
    "plt.xticks(rotation=270)\n",
    "plt.show();"
   ]
  },
  {
   "cell_type": "code",
   "execution_count": null,
   "id": "451e4086",
   "metadata": {},
   "outputs": [],
   "source": []
  },
  {
   "cell_type": "code",
   "execution_count": null,
   "id": "34e821c7",
   "metadata": {},
   "outputs": [],
   "source": []
  }
 ],
 "metadata": {
  "kernelspec": {
   "display_name": "Python 3",
   "language": "python",
   "name": "python3"
  },
  "language_info": {
   "codemirror_mode": {
    "name": "ipython",
    "version": 3
   },
   "file_extension": ".py",
   "mimetype": "text/x-python",
   "name": "python",
   "nbconvert_exporter": "python",
   "pygments_lexer": "ipython3",
   "version": "3.8.8"
  }
 },
 "nbformat": 4,
 "nbformat_minor": 5
}
