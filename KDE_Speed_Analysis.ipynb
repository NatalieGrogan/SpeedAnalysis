{
 "cells": [
  {
   "cell_type": "code",
   "execution_count": 31,
   "id": "194537bd",
   "metadata": {},
   "outputs": [],
   "source": [
    "import numpy as np\n",
    "import pandas as pd\n",
    "import matplotlib.pyplot as plt\n",
    "import os\n",
    "from scipy import stats\n",
    "from sklearn.neighbors import KernelDensity\n",
    "from scipy.signal import argrelextrema\n",
    "import re\n",
    "\n",
    "PValue=.01"
   ]
  },
  {
   "cell_type": "markdown",
   "id": "20106baf",
   "metadata": {},
   "source": [
    "Folders with Files in them"
   ]
  },
  {
   "cell_type": "code",
   "execution_count": 32,
   "id": "6d7ccc09",
   "metadata": {},
   "outputs": [],
   "source": [
    "plugged_in_no_brower_7_20_22 = 'Plugged_In_No_Browser_7-20-22' # 10 runs each no enough for statistics\n",
    "plugged_in_no_brower_7_21_22 = 'Plugged_In_No_Browser_7-21-22' # 50 runs each\n",
    "plugged_in_with_brower_7_26_22 = 'Plugged_In_With_Browser_7-26-22' # 50 runs attemptings to see slow downs with new\n",
    "                                                                   # functionality to show processor speeds\n",
    "\n",
    "battery_two_test_at_once_7_27_22 = 'Battery_Two_Test_At_Once_7_27_22' # Ran two tests at once to test output \n",
    "                                                                      # of cpu speed outputs\n",
    "\n",
    "currentPath = battery_two_test_at_once_7_27_22"
   ]
  },
  {
   "cell_type": "markdown",
   "id": "79eb915f",
   "metadata": {},
   "source": [
    "Search transcript files and process their contents for patterns and programs runs, iterations start and end, and cpu speed throttling changes."
   ]
  },
  {
   "cell_type": "code",
   "execution_count": 33,
   "id": "fa975cf6",
   "metadata": {},
   "outputs": [
    {
     "name": "stdout",
     "output_type": "stream",
     "text": [
      "abram_lpeg   12\n",
      "abram_pexl   898\n",
      "abram_rosie   1427\n",
      "longword_lpeg   2076\n",
      "longword_pexl   89514\n"
     ]
    }
   ],
   "source": [
    "with open(currentPath+'/' + 'transcript1.txt') as f:\n",
    "    lines = f.readlines()\n",
    "\n",
    "f.close()\n",
    "start_of_sections = []\n",
    "speed_changes = []\n",
    "start_of_iterations = []\n",
    "end_of_iterations = []\n",
    "\n",
    "find_prog_patt = '(pexl|lpeg|rosie).* (\\\\w+) +\\\\d+'\n",
    "searcher = re.compile(find_prog_patt)\n",
    "\n",
    "for i in range(0,len(lines)):\n",
    "    line = lines[i]\n",
    "    \n",
    "    if line.find('Benchmark') > -1:\n",
    "        match = searcher.search(line)\n",
    "        assert len(match.groups() ) == 2,('Matched to many things in the pattern identifier '+match.groups())\n",
    "        line = match.groups()[1]+'_'+match.groups()[0]\n",
    "        start_of_sections.append( (line,i) )\n",
    "        print(line,' ',i)\n",
    "    elif line.find('CPU_Speed_Limit') > -1:\n",
    "        speed_changes.append( (line,i) )\n",
    "    elif line.find('Running') > -1:\n",
    "        start_of_iterations.append( (line,i) )\n",
    "    elif line.find('Done.') > -1:\n",
    "        end_of_iterations.append( (line,i) )\n",
    "\n"
   ]
  },
  {
   "cell_type": "code",
   "execution_count": 34,
   "id": "beb01c48",
   "metadata": {},
   "outputs": [],
   "source": [
    "malformed_start_point = start_of_sections[4][1] #The laptop ran out of battery and shut down during this test. This\n",
    "                                                # resulted in data sections that were to poorly formated for \n",
    "                                                # recovery. "
   ]
  },
  {
   "cell_type": "code",
   "execution_count": 35,
   "id": "7c2da41e",
   "metadata": {},
   "outputs": [],
   "source": [
    "# This section reads the value the speed was changed to from the string. It could be combined with the above section\n",
    "# to make the code more concise. If we pursue reading the data from transcripts I will do that.\n",
    "speed_limit_pattern = ' (\\\\d+)\\n'\n",
    "speed_limit_searcher = re.compile(speed_limit_pattern)\n",
    "\n",
    "speed_changes_two = []\n",
    "\n",
    "for occurence in speed_changes:\n",
    "    if occurence[1] > malformed_start_point:\n",
    "        continue\n",
    "    temp = occurence[0]\n",
    "    #print(occurence)\n",
    "    match = speed_limit_searcher.search(temp)\n",
    "    if match is None:\n",
    "        print('ignoring line ', occurence[1])\n",
    "        continue\n",
    "    assert len(match.groups() ) == 1,'Matched to many things looking for speed limit changes'\n",
    "    temp = match.groups()[0]\n",
    "    speed_changes_two.append( (int(temp),occurence[1]))\n"
   ]
  },
  {
   "cell_type": "code",
   "execution_count": 36,
   "id": "0db41270",
   "metadata": {},
   "outputs": [],
   "source": [
    "speed_changes = speed_changes_two"
   ]
  },
  {
   "cell_type": "code",
   "execution_count": 37,
   "id": "33578674",
   "metadata": {},
   "outputs": [
    {
     "name": "stdout",
     "output_type": "stream",
     "text": [
      "Before partitioning bad data we had  472\n",
      "Now we have  420\n"
     ]
    }
   ],
   "source": [
    "# Removing the data that is to malformed for use. \n",
    "# This bit also stitches the start and end of each iteration together. together. Because of the malformed section the start and end lists don't have\n",
    "#   equal lengths and so the inbuilt stich function can't be used.\n",
    "iterations_two = []\n",
    "\n",
    "for i in range(0,len(start_of_iterations)):\n",
    "    \n",
    "    if start_of_iterations[i][1] > malformed_start_point:\n",
    "        continue\n",
    "    iterations_two.append( (start_of_iterations[i][1],end_of_iterations[i][1]) )\n",
    "print('Before partitioning bad data we had ',len(start_of_iterations))\n",
    "print('Now we have ',len(iterations_two))"
   ]
  },
  {
   "cell_type": "code",
   "execution_count": 38,
   "id": "9adfe063",
   "metadata": {},
   "outputs": [],
   "source": [
    "# Idea - First loop looks to consume any speed changes that happen in between iterations then loops to add intra\n",
    "#         speed changes to a list. One important assumption is that starting speed is 100. Could implement a check\n",
    "#          to ensure that's true but not sure it ever isn't.\n",
    "\n",
    "current_speed_idx = 0\n",
    "current_speed = 100\n",
    "runs_w_speed = []\n",
    "\n",
    "for entry in iterations_two:\n",
    "    temp_speeds = []\n",
    "    \n",
    "    start_current_entry_loc = entry[0] # 1st element in tuple is start index of iteration\n",
    "    end_current_entry_loc = entry[1]   # 2nd entry in tuple is end index of iteration\n",
    "    current_speed_loc = speed_changes[current_speed_idx][1] # 2nd index of tuple is current cpu_speed_limit\n",
    "    \n",
    "    # Inter Loop - consume and update speed to be the last change before the start of current iteration\n",
    "    while start_current_entry_loc > current_speed_loc:\n",
    "        current_speed_idx += 1\n",
    "        current_speed_loc = speed_changes[current_speed_idx][1]\n",
    "        current_speed = speed_changes[current_speed_idx-1][0]\n",
    "    \n",
    "    # Intra Loop - append most recent speed to list, update speed and repeat until we find a speed change\n",
    "    #               after end of current iteration\n",
    "    while end_current_entry_loc > current_speed_loc:\n",
    "        temp_speeds.append( current_speed )\n",
    "        current_speed_idx += 1\n",
    "        current_speed_loc = speed_changes[current_speed_idx][1]\n",
    "        current_speed = speed_changes[current_speed_idx-1][0]\n",
    "        \n",
    "    # This ensures that the speed list isn't empty and that if there are no changes it has the most recent speed\n",
    "    temp_speeds.append(current_speed)\n",
    "    \n",
    "    # This series of if/else attaches the appropriate pattern/program name to each iteration.\n",
    "    # This logic isn't great but not sure how to clean it up\n",
    "    if start_current_entry_loc < start_of_sections[1][1]:\n",
    "        name = start_of_sections[0][0]\n",
    "    elif start_current_entry_loc < start_of_sections[2][1]:\n",
    "        name = start_of_sections[1][0]\n",
    "    elif start_current_entry_loc < start_of_sections[3][1]:\n",
    "        name = start_of_sections[2][0]\n",
    "    elif start_current_entry_loc < start_of_sections[4][1]:\n",
    "        name = start_of_sections[3][0]\n",
    "    \n",
    "    runs_w_speed.append( (name,entry,temp_speeds.copy()) )"
   ]
  },
  {
   "cell_type": "markdown",
   "id": "31c4250e",
   "metadata": {},
   "source": [
    "Importing Raw Data"
   ]
  },
  {
   "cell_type": "code",
   "execution_count": 39,
   "id": "39ce1b46",
   "metadata": {},
   "outputs": [
    {
     "name": "stdout",
     "output_type": "stream",
     "text": [
      "100 ('abram_lpeg', (40, 55))\n",
      "93 ('longword_lpeg', (2984, 10219))\n",
      "39 ('longword_lpeg', (54364, 66099))\n"
     ]
    },
    {
     "data": {
      "text/plain": [
       "('abram_lpeg', (16, 19), [100])"
      ]
     },
     "execution_count": 39,
     "metadata": {},
     "output_type": "execute_result"
    }
   ],
   "source": [
    "# This sections removes duplicate consecutive outputs from a bug in the data generating program.\n",
    "#  Each hyperfine loop instantiated a version of the speed monitor but didn't ever close it. Then when the 2nd loop\n",
    "#  started, Longword pattern, each speed monitor instance was reporting the data. Thus double reports of the \n",
    "#  same data. This goes through and pops all those double reports.\n",
    "\n",
    "for run in runs_w_speed:\n",
    "    if len(run[2]) > 1:\n",
    "        counter = len(run[2])-1\n",
    "        i = 0\n",
    "        while i < counter:\n",
    "            if run[2][i] == run[2][i+1]:\n",
    "                run[2].pop(i+1)\n",
    "                counter += -1\n",
    "                i += -1\n",
    "            i += 1\n",
    "min_speed = min(runs_w_speed[0][2])\n",
    "\n",
    "for run in runs_w_speed:\n",
    "    if min(run[2]) < min_speed:\n",
    "        print(min_speed,run[0:2])\n",
    "        min_speed = min(run[2])\n",
    "runs_w_speed[0]"
   ]
  },
  {
   "cell_type": "code",
   "execution_count": 40,
   "id": "2453ba88",
   "metadata": {},
   "outputs": [],
   "source": [
    "\n",
    "lpeg_Abram_Speed = []\n",
    "Pexl_Abram_Speed = []\n",
    "Rosie_Abram_Speed = []\n",
    "lpeg_Longword_Speed = []\n",
    "\n",
    "# This creates a dictionary containing each of the pattern/program combos found in the transcript file. Keys are\n",
    "#  the pattern_program name and values are a list lists of the \"cpu speed\" for each iteration whose \"name\" \n",
    "#  matchs the key.\n",
    "Speed_Dic ={}\n",
    "patterns_identified = []\n",
    "for item in start_of_sections:\n",
    "    patterns_identified.append(item[0])\n",
    "    Speed_Dic[item[0]] = []\n",
    "\n",
    "for pattern in patterns_identified:\n",
    "    for run in runs_w_speed:\n",
    "        name = run[0]\n",
    "        if name.find(pattern) != -1:\n",
    "            Speed_Dic[pattern].append(run[2])\n"
   ]
  },
  {
   "cell_type": "code",
   "execution_count": 41,
   "id": "b65b4cbd",
   "metadata": {},
   "outputs": [
    {
     "name": "stdout",
     "output_type": "stream",
     "text": [
      "longword-captureAll.json\n",
      "Found  5  warm up runs.\n",
      "abram-captureAll.json\n",
      "Found  5  warm up runs.\n",
      "Found  5  warm up runs.\n",
      "Found  5  warm up runs.\n"
     ]
    }
   ],
   "source": [
    "# This creates a dictionary whose keys are the pattern_program combo found in the transcript. The values are a \n",
    "#  two dimensional dataframe. 1 column is the duration of each iteration. 2nd column is a list of the \"cpu speed/s\"\n",
    "#  during that iteration.\n",
    "\n",
    "DF_Dic ={}\n",
    "\n",
    "folder_path = currentPath +'/'\n",
    "whats_inside = os.listdir(currentPath)\n",
    "colors = ['green','blue','red']\n",
    "\n",
    "for file in whats_inside:\n",
    "    if file.find('~') > -1:\n",
    "        continue\n",
    "    elif file.find('.DS_Store') > -1:\n",
    "        continue\n",
    "    elif file.find('#') > -1:\n",
    "        continue\n",
    "    elif file.find('.txt') > -1:\n",
    "        continue\n",
    "    \n",
    "    print(file)\n",
    "    name_pattern = file.split('-')[0]\n",
    "    assert file.find('.json') != -1, ('Trying to read a non .json file '+file)\n",
    "    temp = pd.read_json(folder_path+file, orient = 'records')\n",
    "    \n",
    "    progNames = []\n",
    "    for j in range(0,temp.shape[0]):\n",
    "        command = temp.iloc[j,0]['command']\n",
    "        \n",
    "        if command.find('lpeg') != -1:\n",
    "            found_prog = 'lpeg'\n",
    "        elif command.find('pexl') != -1:\n",
    "            found_prog = 'pexl'\n",
    "        elif command.find('rosie') != -1:\n",
    "            found_prog = 'rosie'\n",
    "        \n",
    "        tempDF = pd.DataFrame(columns = [found_prog,found_prog+'_Speed'])\n",
    "        tempDF[found_prog] = temp.iloc[j,0]['times']\n",
    "        warmup_runs = len(Speed_Dic[name_pattern+'_'+found_prog]) - tempDF[ found_prog ].size\n",
    "        # There are 5 warm-up iterations before each run is recorded. These warmups are in the transcript but not \n",
    "        #  the actual data.\n",
    "        print('Found ',warmup_runs,' warm up runs.')\n",
    "        tempDF[found_prog+'_Speed'] = Speed_Dic[name_pattern+'_'+found_prog][warmup_runs:]\n",
    "        \n",
    "        DF_Dic[name_pattern+'_'+found_prog] = tempDF.copy()"
   ]
  },
  {
   "cell_type": "markdown",
   "id": "19f3932a",
   "metadata": {},
   "source": [
    "Function to calculate bandwidth value from data assuming bimodal distrobution"
   ]
  },
  {
   "cell_type": "code",
   "execution_count": 42,
   "id": "eacb3aef",
   "metadata": {},
   "outputs": [],
   "source": [
    "# Magic number comes from the wiki article on kde and how to estimate bandwidth from the data.\n",
    "# The wiki article suggested .9 as a good approximation for bimodal/multimodal distrubutions.\n",
    "def band_est(dataSet):\n",
    "    magic_num = .9\n",
    "    n = len(dataSet)\n",
    "    samp_std = dataSet.std()\n",
    "    q1 = np.quantile(dataSet,.25)\n",
    "    q3 = np.quantile(dataSet,.75)\n",
    "    IQR = q3-q1\n",
    "    bandwidth_estimate = magic_num * min(samp_std,IQR/1.34)*n**(-1/5)\n",
    "    return bandwidth_estimate"
   ]
  },
  {
   "cell_type": "markdown",
   "id": "f428ca3e",
   "metadata": {},
   "source": [
    "Funtion to calculate and plot the kde graphs "
   ]
  },
  {
   "cell_type": "code",
   "execution_count": 43,
   "id": "083d2857",
   "metadata": {},
   "outputs": [],
   "source": [
    "def kde_graph(data,title):\n",
    "    dataArray = data[:,0].reshape(-1,1)\n",
    "    band_estimate = band_est(dataArray)\n",
    "    kde = KernelDensity(kernel='gaussian', bandwidth= band_estimate ).fit(dataArray)\n",
    "    s = np.linspace(min(dataArray)[0],max(dataArray)[0],10000)\n",
    "    e = kde.score_samples(s.reshape(-1,1))\n",
    "    \n",
    "    if title.find('lpeg') != -1:\n",
    "        color = 'green'\n",
    "    elif title.find('rosie') != -1:\n",
    "        color = 'red'\n",
    "    elif title.find('pexl') != -1:\n",
    "        color = 'blue'\n",
    "    else:\n",
    "        color = 'black'\n",
    "    \n",
    "    plt.plot(s, e, c = color)\n",
    "    plt.axhline(y=0)\n",
    "    \n",
    "    mi, ma = argrelextrema(e, np.less)[0], argrelextrema(e, np.greater)[0]\n",
    "    #print(\"Minima: X:\", s[mi],'\\n        Y:', e[mi], '\\n')\n",
    "    #print(\"\\nMaxima: X:\", s[ma],'\\n        Y:', e[ma],'\\n')\n",
    "    \n",
    "    #if min(e[mi]) < -100:\n",
    "    #    plt.yscale('symlog')\n",
    "    \n",
    "    mean = np.mean(dataArray)\n",
    "    median = np.median(dataArray)\n",
    "    \n",
    "    for points in data:\n",
    "        temp = np.mean(points[1])\n",
    "        if temp < 100:\n",
    "            \n",
    "            norm = points[0]-min(dataArray)[0]\n",
    "            \n",
    "            stepSize = (max(dataArray)[0] - min(dataArray)[0])/10000\n",
    "            \n",
    "            dif = round( norm/stepSize) -1\n",
    "            \n",
    "            plt.scatter(points[0],e[dif], c ='purple',)\n",
    "            \n",
    "    plt.vlines(x=mean,ymin = min(e), ymax = max(e), colors = 'grey')\n",
    "    plt.vlines(x=median,ymin = min(e), ymax = max(e), colors = 'teal')\n",
    "    \n",
    "    plt.title((title+' '+str(round(dataArray.std(),3) ) ) )\n",
    "    plt.show();\n",
    "    return (s[mi],e[mi]),(s[ma],e[ma])"
   ]
  },
  {
   "cell_type": "code",
   "execution_count": 50,
   "id": "25b86978",
   "metadata": {},
   "outputs": [],
   "source": [
    "def scale_speed(data):\n",
    "    temp = data.copy()\n",
    "    assert data.shape[1] == 2, 'Data has more/less columns than 2'\n",
    "    assert type(data.iloc[0,1]) == list, 'Second column is not a list'\n",
    "    \n",
    "    for row in temp.index:\n",
    "        if np.mean(temp.iloc[row,1]) < 100:\n",
    "            #print(temp.iloc[row,0])\n",
    "            #print(temp.iloc[row,0] * np.mean(temp.iloc[row,1])/100)\n",
    "            temp.iloc[row,0] = temp.iloc[row,0] * np.mean(temp.iloc[row,1])/100\n",
    "    return temp"
   ]
  },
  {
   "cell_type": "code",
   "execution_count": 52,
   "id": "0039e16e",
   "metadata": {},
   "outputs": [
    {
     "data": {
      "image/png": "[encoded data removed]",
      "text/plain": [
       "<Figure size 432x288 with 1 Axes>"
      ]
     },
     "metadata": {
      "needs_background": "light"
     },
     "output_type": "display_data"
    }
   ],
   "source": [
    "#print(type(DF_Dic['longword_lpeg'].iloc[0,1]))\n",
    "test = scale_speed(DF_Dic['abram_lpeg'])\n",
    "kde_graph(test.to_numpy(),'test');"
   ]
  },
  {
   "cell_type": "code",
   "execution_count": 15,
   "id": "c8dcd126",
   "metadata": {},
   "outputs": [
    {
     "data": {
      "image/png": "[encoded data removed]",
      "text/plain": [
       "<Figure size 432x288 with 1 Axes>"
      ]
     },
     "metadata": {
      "needs_background": "light"
     },
     "output_type": "display_data"
    },
    {
     "data": {
      "image/png": "[encoded data removed]",
      "text/plain": [
       "<Figure size 432x288 with 1 Axes>"
      ]
     },
     "metadata": {
      "needs_background": "light"
     },
     "output_type": "display_data"
    },
    {
     "data": {
      "image/png": "[encoded data removed]",
      "text/plain": [
       "<Figure size 432x288 with 1 Axes>"
      ]
     },
     "metadata": {
      "needs_background": "light"
     },
     "output_type": "display_data"
    },
    {
     "data": {
      "image/png": "[encoded data removed]",
      "text/plain": [
       "<Figure size 432x288 with 1 Axes>"
      ]
     },
     "metadata": {
      "needs_background": "light"
     },
     "output_type": "display_data"
    }
   ],
   "source": [
    "min_max_Dic = {}\n",
    "for name in DF_Dic.keys():\n",
    "    min_max_Dic[name] = (kde_graph(DF_Dic[name].to_numpy(),name))\n",
    "#mi , ma = kde_graph(testing,title,'test')\n"
   ]
  },
  {
   "cell_type": "code",
   "execution_count": 16,
   "id": "812a8a1f",
   "metadata": {},
   "outputs": [
    {
     "ename": "KeyError",
     "evalue": "'lpeg'",
     "output_type": "error",
     "traceback": [
      "\u001b[0;31m---------------------------------------------------------------------------\u001b[0m",
      "\u001b[0;31mKeyError\u001b[0m                                  Traceback (most recent call last)",
      "\u001b[0;32m<ipython-input-16-679a99323758>\u001b[0m in \u001b[0;36m<module>\u001b[0;34m\u001b[0m\n\u001b[1;32m      7\u001b[0m     \u001b[0mprog\u001b[0m\u001b[0;34m,\u001b[0m \u001b[0mname\u001b[0m \u001b[0;34m=\u001b[0m \u001b[0mgraph\u001b[0m\u001b[0;34m.\u001b[0m\u001b[0msplit\u001b[0m\u001b[0;34m(\u001b[0m\u001b[0;34m'_'\u001b[0m\u001b[0;34m)\u001b[0m\u001b[0;34m\u001b[0m\u001b[0;34m\u001b[0m\u001b[0m\n\u001b[1;32m      8\u001b[0m \u001b[0;34m\u001b[0m\u001b[0m\n\u001b[0;32m----> 9\u001b[0;31m     \u001b[0mcurrentDF\u001b[0m \u001b[0;34m=\u001b[0m \u001b[0mDF_Dic\u001b[0m\u001b[0;34m[\u001b[0m\u001b[0mname\u001b[0m\u001b[0;34m]\u001b[0m\u001b[0;34m[\u001b[0m\u001b[0mprog\u001b[0m\u001b[0;34m]\u001b[0m\u001b[0;34m\u001b[0m\u001b[0;34m\u001b[0m\u001b[0m\n\u001b[0m\u001b[1;32m     10\u001b[0m \u001b[0;34m\u001b[0m\u001b[0m\n\u001b[1;32m     11\u001b[0m     \u001b[0mtemp\u001b[0m\u001b[0;34m.\u001b[0m\u001b[0mappend\u001b[0m\u001b[0;34m(\u001b[0m\u001b[0mcurrentDF\u001b[0m\u001b[0;34m.\u001b[0m\u001b[0mmin\u001b[0m\u001b[0;34m(\u001b[0m\u001b[0;34m)\u001b[0m\u001b[0;34m)\u001b[0m\u001b[0;34m\u001b[0m\u001b[0;34m\u001b[0m\u001b[0m\n",
      "\u001b[0;31mKeyError\u001b[0m: 'lpeg'"
     ]
    }
   ],
   "source": [
    "split_graph_dic = {}\n",
    "\n",
    "for graph in min_max_Dic:\n",
    "    mi, ma = min_max_Dic[graph]\n",
    "    loc_val = zip(mi[0],mi[1])\n",
    "    temp = []\n",
    "    prog, name = graph.split('_')\n",
    "    \n",
    "    currentDF = DF_Dic[name][prog]\n",
    "    \n",
    "    temp.append(currentDF.min())\n",
    "    \n",
    "    for val in loc_val:\n",
    "        if val[1] < 0:\n",
    "            temp.append(val[0])\n",
    "    \n",
    "    temp.append(DF_Dic[name][prog].max())\n",
    "    \n",
    "    split_graph_dic[graph] = []\n",
    "        \n",
    "    for counter in range(1,len(temp)):\n",
    "        if counter == len(temp)-1:\n",
    "            split_graph_dic[graph].append(currentDF[[ test for test in currentDF >= temp[counter-1] ]])\n",
    "        else:\n",
    "            temp2 = currentDF[[test for test in currentDF >= temp[counter - 1] ] ]\n",
    "            split_graph_dic[graph].append(temp2[[test for test in temp2 < temp[counter] ] ])\n",
    "            \n",
    "    sum_counter = 0\n",
    "    for lists in split_graph_dic[graph]:\n",
    "        sum_counter += len(lists)\n",
    "    \n",
    "    assert sum_counter == len(currentDF),('Missing/Double Counted Data in splitting set '+graph)"
   ]
  },
  {
   "cell_type": "markdown",
   "id": "80218f6e",
   "metadata": {},
   "source": [
    "Attempting to combine all the data into one set to look at distrobution of clock times."
   ]
  },
  {
   "cell_type": "code",
   "execution_count": 18,
   "id": "26da7324",
   "metadata": {
    "scrolled": true
   },
   "outputs": [
    {
     "name": "stdout",
     "output_type": "stream",
     "text": [
      "lpeg_Longword\n",
      "1\n",
      "90\n",
      "1\n",
      "1\n",
      "1\n",
      "1\n",
      "1\n",
      "1\n",
      "1\n",
      "1\n",
      "1\n"
     ]
    }
   ],
   "source": [
    "for graph in split_graph_dic:\n",
    "    print(graph)\n",
    "    for lists in split_graph_dic[graph]:\n",
    "        print(len(lists))"
   ]
  },
  {
   "cell_type": "code",
   "execution_count": 19,
   "id": "65d7e783",
   "metadata": {},
   "outputs": [
    {
     "ename": "ValueError",
     "evalue": "setting an array element with a sequence.",
     "output_type": "error",
     "traceback": [
      "\u001b[0;31m---------------------------------------------------------------------------\u001b[0m",
      "\u001b[0;31mTypeError\u001b[0m                                 Traceback (most recent call last)",
      "\u001b[0;31mTypeError\u001b[0m: float() argument must be a string or a number, not 'list'",
      "\nThe above exception was the direct cause of the following exception:\n",
      "\u001b[0;31mValueError\u001b[0m                                Traceback (most recent call last)",
      "\u001b[0;32m<ipython-input-19-f247a68564b3>\u001b[0m in \u001b[0;36m<module>\u001b[0;34m\u001b[0m\n\u001b[1;32m      8\u001b[0m         \u001b[0mcolor\u001b[0m \u001b[0;34m=\u001b[0m \u001b[0;34m'red'\u001b[0m\u001b[0;34m\u001b[0m\u001b[0;34m\u001b[0m\u001b[0m\n\u001b[1;32m      9\u001b[0m \u001b[0;34m\u001b[0m\u001b[0m\n\u001b[0;32m---> 10\u001b[0;31m     \u001b[0mplt\u001b[0m\u001b[0;34m.\u001b[0m\u001b[0mplot\u001b[0m\u001b[0;34m(\u001b[0m\u001b[0mDF_Dic\u001b[0m\u001b[0;34m[\u001b[0m\u001b[0mtest\u001b[0m\u001b[0;34m]\u001b[0m\u001b[0;34m[\u001b[0m\u001b[0mname\u001b[0m\u001b[0;34m]\u001b[0m\u001b[0;34m,\u001b[0m \u001b[0mcolor\u001b[0m \u001b[0;34m=\u001b[0m \u001b[0mcolor\u001b[0m\u001b[0;34m)\u001b[0m\u001b[0;34m\u001b[0m\u001b[0;34m\u001b[0m\u001b[0m\n\u001b[0m",
      "\u001b[0;32m~/opt/anaconda3/lib/python3.8/site-packages/matplotlib/pyplot.py\u001b[0m in \u001b[0;36mplot\u001b[0;34m(scalex, scaley, data, *args, **kwargs)\u001b[0m\n\u001b[1;32m   2838\u001b[0m \u001b[0;34m@\u001b[0m\u001b[0m_copy_docstring_and_deprecators\u001b[0m\u001b[0;34m(\u001b[0m\u001b[0mAxes\u001b[0m\u001b[0;34m.\u001b[0m\u001b[0mplot\u001b[0m\u001b[0;34m)\u001b[0m\u001b[0;34m\u001b[0m\u001b[0;34m\u001b[0m\u001b[0m\n\u001b[1;32m   2839\u001b[0m \u001b[0;32mdef\u001b[0m \u001b[0mplot\u001b[0m\u001b[0;34m(\u001b[0m\u001b[0;34m*\u001b[0m\u001b[0margs\u001b[0m\u001b[0;34m,\u001b[0m \u001b[0mscalex\u001b[0m\u001b[0;34m=\u001b[0m\u001b[0;32mTrue\u001b[0m\u001b[0;34m,\u001b[0m \u001b[0mscaley\u001b[0m\u001b[0;34m=\u001b[0m\u001b[0;32mTrue\u001b[0m\u001b[0;34m,\u001b[0m \u001b[0mdata\u001b[0m\u001b[0;34m=\u001b[0m\u001b[0;32mNone\u001b[0m\u001b[0;34m,\u001b[0m \u001b[0;34m**\u001b[0m\u001b[0mkwargs\u001b[0m\u001b[0;34m)\u001b[0m\u001b[0;34m:\u001b[0m\u001b[0;34m\u001b[0m\u001b[0;34m\u001b[0m\u001b[0m\n\u001b[0;32m-> 2840\u001b[0;31m     return gca().plot(\n\u001b[0m\u001b[1;32m   2841\u001b[0m         \u001b[0;34m*\u001b[0m\u001b[0margs\u001b[0m\u001b[0;34m,\u001b[0m \u001b[0mscalex\u001b[0m\u001b[0;34m=\u001b[0m\u001b[0mscalex\u001b[0m\u001b[0;34m,\u001b[0m \u001b[0mscaley\u001b[0m\u001b[0;34m=\u001b[0m\u001b[0mscaley\u001b[0m\u001b[0;34m,\u001b[0m\u001b[0;34m\u001b[0m\u001b[0;34m\u001b[0m\u001b[0m\n\u001b[1;32m   2842\u001b[0m         **({\"data\": data} if data is not None else {}), **kwargs)\n",
      "\u001b[0;32m~/opt/anaconda3/lib/python3.8/site-packages/matplotlib/axes/_axes.py\u001b[0m in \u001b[0;36mplot\u001b[0;34m(self, scalex, scaley, data, *args, **kwargs)\u001b[0m\n\u001b[1;32m   1743\u001b[0m         \u001b[0mlines\u001b[0m \u001b[0;34m=\u001b[0m \u001b[0;34m[\u001b[0m\u001b[0;34m*\u001b[0m\u001b[0mself\u001b[0m\u001b[0;34m.\u001b[0m\u001b[0m_get_lines\u001b[0m\u001b[0;34m(\u001b[0m\u001b[0;34m*\u001b[0m\u001b[0margs\u001b[0m\u001b[0;34m,\u001b[0m \u001b[0mdata\u001b[0m\u001b[0;34m=\u001b[0m\u001b[0mdata\u001b[0m\u001b[0;34m,\u001b[0m \u001b[0;34m**\u001b[0m\u001b[0mkwargs\u001b[0m\u001b[0;34m)\u001b[0m\u001b[0;34m]\u001b[0m\u001b[0;34m\u001b[0m\u001b[0;34m\u001b[0m\u001b[0m\n\u001b[1;32m   1744\u001b[0m         \u001b[0;32mfor\u001b[0m \u001b[0mline\u001b[0m \u001b[0;32min\u001b[0m \u001b[0mlines\u001b[0m\u001b[0;34m:\u001b[0m\u001b[0;34m\u001b[0m\u001b[0;34m\u001b[0m\u001b[0m\n\u001b[0;32m-> 1745\u001b[0;31m             \u001b[0mself\u001b[0m\u001b[0;34m.\u001b[0m\u001b[0madd_line\u001b[0m\u001b[0;34m(\u001b[0m\u001b[0mline\u001b[0m\u001b[0;34m)\u001b[0m\u001b[0;34m\u001b[0m\u001b[0;34m\u001b[0m\u001b[0m\n\u001b[0m\u001b[1;32m   1746\u001b[0m         \u001b[0mself\u001b[0m\u001b[0;34m.\u001b[0m\u001b[0m_request_autoscale_view\u001b[0m\u001b[0;34m(\u001b[0m\u001b[0mscalex\u001b[0m\u001b[0;34m=\u001b[0m\u001b[0mscalex\u001b[0m\u001b[0;34m,\u001b[0m \u001b[0mscaley\u001b[0m\u001b[0;34m=\u001b[0m\u001b[0mscaley\u001b[0m\u001b[0;34m)\u001b[0m\u001b[0;34m\u001b[0m\u001b[0;34m\u001b[0m\u001b[0m\n\u001b[1;32m   1747\u001b[0m         \u001b[0;32mreturn\u001b[0m \u001b[0mlines\u001b[0m\u001b[0;34m\u001b[0m\u001b[0;34m\u001b[0m\u001b[0m\n",
      "\u001b[0;32m~/opt/anaconda3/lib/python3.8/site-packages/matplotlib/axes/_base.py\u001b[0m in \u001b[0;36madd_line\u001b[0;34m(self, line)\u001b[0m\n\u001b[1;32m   1962\u001b[0m             \u001b[0mline\u001b[0m\u001b[0;34m.\u001b[0m\u001b[0mset_clip_path\u001b[0m\u001b[0;34m(\u001b[0m\u001b[0mself\u001b[0m\u001b[0;34m.\u001b[0m\u001b[0mpatch\u001b[0m\u001b[0;34m)\u001b[0m\u001b[0;34m\u001b[0m\u001b[0;34m\u001b[0m\u001b[0m\n\u001b[1;32m   1963\u001b[0m \u001b[0;34m\u001b[0m\u001b[0m\n\u001b[0;32m-> 1964\u001b[0;31m         \u001b[0mself\u001b[0m\u001b[0;34m.\u001b[0m\u001b[0m_update_line_limits\u001b[0m\u001b[0;34m(\u001b[0m\u001b[0mline\u001b[0m\u001b[0;34m)\u001b[0m\u001b[0;34m\u001b[0m\u001b[0;34m\u001b[0m\u001b[0m\n\u001b[0m\u001b[1;32m   1965\u001b[0m         \u001b[0;32mif\u001b[0m \u001b[0;32mnot\u001b[0m \u001b[0mline\u001b[0m\u001b[0;34m.\u001b[0m\u001b[0mget_label\u001b[0m\u001b[0;34m(\u001b[0m\u001b[0;34m)\u001b[0m\u001b[0;34m:\u001b[0m\u001b[0;34m\u001b[0m\u001b[0;34m\u001b[0m\u001b[0m\n\u001b[1;32m   1966\u001b[0m             \u001b[0mline\u001b[0m\u001b[0;34m.\u001b[0m\u001b[0mset_label\u001b[0m\u001b[0;34m(\u001b[0m\u001b[0;34m'_line%d'\u001b[0m \u001b[0;34m%\u001b[0m \u001b[0mlen\u001b[0m\u001b[0;34m(\u001b[0m\u001b[0mself\u001b[0m\u001b[0;34m.\u001b[0m\u001b[0mlines\u001b[0m\u001b[0;34m)\u001b[0m\u001b[0;34m)\u001b[0m\u001b[0;34m\u001b[0m\u001b[0;34m\u001b[0m\u001b[0m\n",
      "\u001b[0;32m~/opt/anaconda3/lib/python3.8/site-packages/matplotlib/axes/_base.py\u001b[0m in \u001b[0;36m_update_line_limits\u001b[0;34m(self, line)\u001b[0m\n\u001b[1;32m   1984\u001b[0m         \u001b[0mFigures\u001b[0m \u001b[0mout\u001b[0m \u001b[0mthe\u001b[0m \u001b[0mdata\u001b[0m \u001b[0mlimit\u001b[0m \u001b[0mof\u001b[0m \u001b[0mthe\u001b[0m \u001b[0mgiven\u001b[0m \u001b[0mline\u001b[0m\u001b[0;34m,\u001b[0m \u001b[0mupdating\u001b[0m \u001b[0mself\u001b[0m\u001b[0;34m.\u001b[0m\u001b[0mdataLim\u001b[0m\u001b[0;34m.\u001b[0m\u001b[0;34m\u001b[0m\u001b[0;34m\u001b[0m\u001b[0m\n\u001b[1;32m   1985\u001b[0m         \"\"\"\n\u001b[0;32m-> 1986\u001b[0;31m         \u001b[0mpath\u001b[0m \u001b[0;34m=\u001b[0m \u001b[0mline\u001b[0m\u001b[0;34m.\u001b[0m\u001b[0mget_path\u001b[0m\u001b[0;34m(\u001b[0m\u001b[0;34m)\u001b[0m\u001b[0;34m\u001b[0m\u001b[0;34m\u001b[0m\u001b[0m\n\u001b[0m\u001b[1;32m   1987\u001b[0m         \u001b[0;32mif\u001b[0m \u001b[0mpath\u001b[0m\u001b[0;34m.\u001b[0m\u001b[0mvertices\u001b[0m\u001b[0;34m.\u001b[0m\u001b[0msize\u001b[0m \u001b[0;34m==\u001b[0m \u001b[0;36m0\u001b[0m\u001b[0;34m:\u001b[0m\u001b[0;34m\u001b[0m\u001b[0;34m\u001b[0m\u001b[0m\n\u001b[1;32m   1988\u001b[0m             \u001b[0;32mreturn\u001b[0m\u001b[0;34m\u001b[0m\u001b[0;34m\u001b[0m\u001b[0m\n",
      "\u001b[0;32m~/opt/anaconda3/lib/python3.8/site-packages/matplotlib/lines.py\u001b[0m in \u001b[0;36mget_path\u001b[0;34m(self)\u001b[0m\n\u001b[1;32m   1009\u001b[0m         \"\"\"\n\u001b[1;32m   1010\u001b[0m         \u001b[0;32mif\u001b[0m \u001b[0mself\u001b[0m\u001b[0;34m.\u001b[0m\u001b[0m_invalidy\u001b[0m \u001b[0;32mor\u001b[0m \u001b[0mself\u001b[0m\u001b[0;34m.\u001b[0m\u001b[0m_invalidx\u001b[0m\u001b[0;34m:\u001b[0m\u001b[0;34m\u001b[0m\u001b[0;34m\u001b[0m\u001b[0m\n\u001b[0;32m-> 1011\u001b[0;31m             \u001b[0mself\u001b[0m\u001b[0;34m.\u001b[0m\u001b[0mrecache\u001b[0m\u001b[0;34m(\u001b[0m\u001b[0;34m)\u001b[0m\u001b[0;34m\u001b[0m\u001b[0;34m\u001b[0m\u001b[0m\n\u001b[0m\u001b[1;32m   1012\u001b[0m         \u001b[0;32mreturn\u001b[0m \u001b[0mself\u001b[0m\u001b[0;34m.\u001b[0m\u001b[0m_path\u001b[0m\u001b[0;34m\u001b[0m\u001b[0;34m\u001b[0m\u001b[0m\n\u001b[1;32m   1013\u001b[0m \u001b[0;34m\u001b[0m\u001b[0m\n",
      "\u001b[0;32m~/opt/anaconda3/lib/python3.8/site-packages/matplotlib/lines.py\u001b[0m in \u001b[0;36mrecache\u001b[0;34m(self, always)\u001b[0m\n\u001b[1;32m    656\u001b[0m         \u001b[0;32mif\u001b[0m \u001b[0malways\u001b[0m \u001b[0;32mor\u001b[0m \u001b[0mself\u001b[0m\u001b[0;34m.\u001b[0m\u001b[0m_invalidy\u001b[0m\u001b[0;34m:\u001b[0m\u001b[0;34m\u001b[0m\u001b[0;34m\u001b[0m\u001b[0m\n\u001b[1;32m    657\u001b[0m             \u001b[0myconv\u001b[0m \u001b[0;34m=\u001b[0m \u001b[0mself\u001b[0m\u001b[0;34m.\u001b[0m\u001b[0mconvert_yunits\u001b[0m\u001b[0;34m(\u001b[0m\u001b[0mself\u001b[0m\u001b[0;34m.\u001b[0m\u001b[0m_yorig\u001b[0m\u001b[0;34m)\u001b[0m\u001b[0;34m\u001b[0m\u001b[0;34m\u001b[0m\u001b[0m\n\u001b[0;32m--> 658\u001b[0;31m             \u001b[0my\u001b[0m \u001b[0;34m=\u001b[0m \u001b[0m_to_unmasked_float_array\u001b[0m\u001b[0;34m(\u001b[0m\u001b[0myconv\u001b[0m\u001b[0;34m)\u001b[0m\u001b[0;34m.\u001b[0m\u001b[0mravel\u001b[0m\u001b[0;34m(\u001b[0m\u001b[0;34m)\u001b[0m\u001b[0;34m\u001b[0m\u001b[0;34m\u001b[0m\u001b[0m\n\u001b[0m\u001b[1;32m    659\u001b[0m         \u001b[0;32melse\u001b[0m\u001b[0;34m:\u001b[0m\u001b[0;34m\u001b[0m\u001b[0;34m\u001b[0m\u001b[0m\n\u001b[1;32m    660\u001b[0m             \u001b[0my\u001b[0m \u001b[0;34m=\u001b[0m \u001b[0mself\u001b[0m\u001b[0;34m.\u001b[0m\u001b[0m_y\u001b[0m\u001b[0;34m\u001b[0m\u001b[0;34m\u001b[0m\u001b[0m\n",
      "\u001b[0;32m~/opt/anaconda3/lib/python3.8/site-packages/matplotlib/cbook/__init__.py\u001b[0m in \u001b[0;36m_to_unmasked_float_array\u001b[0;34m(x)\u001b[0m\n\u001b[1;32m   1287\u001b[0m         \u001b[0;32mreturn\u001b[0m \u001b[0mnp\u001b[0m\u001b[0;34m.\u001b[0m\u001b[0mma\u001b[0m\u001b[0;34m.\u001b[0m\u001b[0masarray\u001b[0m\u001b[0;34m(\u001b[0m\u001b[0mx\u001b[0m\u001b[0;34m,\u001b[0m \u001b[0mfloat\u001b[0m\u001b[0;34m)\u001b[0m\u001b[0;34m.\u001b[0m\u001b[0mfilled\u001b[0m\u001b[0;34m(\u001b[0m\u001b[0mnp\u001b[0m\u001b[0;34m.\u001b[0m\u001b[0mnan\u001b[0m\u001b[0;34m)\u001b[0m\u001b[0;34m\u001b[0m\u001b[0;34m\u001b[0m\u001b[0m\n\u001b[1;32m   1288\u001b[0m     \u001b[0;32melse\u001b[0m\u001b[0;34m:\u001b[0m\u001b[0;34m\u001b[0m\u001b[0;34m\u001b[0m\u001b[0m\n\u001b[0;32m-> 1289\u001b[0;31m         \u001b[0;32mreturn\u001b[0m \u001b[0mnp\u001b[0m\u001b[0;34m.\u001b[0m\u001b[0masarray\u001b[0m\u001b[0;34m(\u001b[0m\u001b[0mx\u001b[0m\u001b[0;34m,\u001b[0m \u001b[0mfloat\u001b[0m\u001b[0;34m)\u001b[0m\u001b[0;34m\u001b[0m\u001b[0;34m\u001b[0m\u001b[0m\n\u001b[0m\u001b[1;32m   1290\u001b[0m \u001b[0;34m\u001b[0m\u001b[0m\n\u001b[1;32m   1291\u001b[0m \u001b[0;34m\u001b[0m\u001b[0m\n",
      "\u001b[0;32m~/opt/anaconda3/lib/python3.8/site-packages/numpy/core/_asarray.py\u001b[0m in \u001b[0;36masarray\u001b[0;34m(a, dtype, order, like)\u001b[0m\n\u001b[1;32m    100\u001b[0m         \u001b[0;32mreturn\u001b[0m \u001b[0m_asarray_with_like\u001b[0m\u001b[0;34m(\u001b[0m\u001b[0ma\u001b[0m\u001b[0;34m,\u001b[0m \u001b[0mdtype\u001b[0m\u001b[0;34m=\u001b[0m\u001b[0mdtype\u001b[0m\u001b[0;34m,\u001b[0m \u001b[0morder\u001b[0m\u001b[0;34m=\u001b[0m\u001b[0morder\u001b[0m\u001b[0;34m,\u001b[0m \u001b[0mlike\u001b[0m\u001b[0;34m=\u001b[0m\u001b[0mlike\u001b[0m\u001b[0;34m)\u001b[0m\u001b[0;34m\u001b[0m\u001b[0;34m\u001b[0m\u001b[0m\n\u001b[1;32m    101\u001b[0m \u001b[0;34m\u001b[0m\u001b[0m\n\u001b[0;32m--> 102\u001b[0;31m     \u001b[0;32mreturn\u001b[0m \u001b[0marray\u001b[0m\u001b[0;34m(\u001b[0m\u001b[0ma\u001b[0m\u001b[0;34m,\u001b[0m \u001b[0mdtype\u001b[0m\u001b[0;34m,\u001b[0m \u001b[0mcopy\u001b[0m\u001b[0;34m=\u001b[0m\u001b[0;32mFalse\u001b[0m\u001b[0;34m,\u001b[0m \u001b[0morder\u001b[0m\u001b[0;34m=\u001b[0m\u001b[0morder\u001b[0m\u001b[0;34m)\u001b[0m\u001b[0;34m\u001b[0m\u001b[0;34m\u001b[0m\u001b[0m\n\u001b[0m\u001b[1;32m    103\u001b[0m \u001b[0;34m\u001b[0m\u001b[0m\n\u001b[1;32m    104\u001b[0m \u001b[0;34m\u001b[0m\u001b[0m\n",
      "\u001b[0;31mValueError\u001b[0m: setting an array element with a sequence."
     ]
    },
    {
     "data": {
      "image/png": "[encoded data removed]",
      "text/plain": [
       "<Figure size 432x288 with 1 Axes>"
      ]
     },
     "metadata": {
      "needs_background": "light"
     },
     "output_type": "display_data"
    }
   ],
   "source": [
    "test = 'Abram'\n",
    "for name in DF_Dic[test].columns:\n",
    "    if name =='lpeg':\n",
    "        color = 'green'\n",
    "    elif name =='Pexl':\n",
    "        color = 'blue'\n",
    "    elif name == 'Rosie':\n",
    "        color = 'red'\n",
    "\n",
    "    plt.plot(DF_Dic[test][name], color = color)\n"
   ]
  },
  {
   "cell_type": "code",
   "execution_count": null,
   "id": "8b0e9363",
   "metadata": {},
   "outputs": [],
   "source": []
  },
  {
   "cell_type": "code",
   "execution_count": null,
   "id": "957f1d18",
   "metadata": {},
   "outputs": [],
   "source": []
  },
  {
   "cell_type": "code",
   "execution_count": null,
   "id": "34e821c7",
   "metadata": {},
   "outputs": [],
   "source": []
  }
 ],
 "metadata": {
  "kernelspec": {
   "display_name": "Python 3",
   "language": "python",
   "name": "python3"
  },
  "language_info": {
   "codemirror_mode": {
    "name": "ipython",
    "version": 3
   },
   "file_extension": ".py",
   "mimetype": "text/x-python",
   "name": "python",
   "nbconvert_exporter": "python",
   "pygments_lexer": "ipython3",
   "version": "3.8.8"
  }
 },
 "nbformat": 4,
 "nbformat_minor": 5
}
